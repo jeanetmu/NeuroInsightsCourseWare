{
 "cells": [
  {
   "cell_type": "markdown",
   "id": "1bbd7d9d",
   "metadata": {},
   "source": [
    "# Git \n",
    "\n",
    "## Part 1\n",
    "Let chaos reign and finish your team task on \"Day_2_Git_Assignment_Chaos\" repository (this task will open at day_2 after the lecture.)\n",
    "\n",
    "\n",
    "## Part 2\n",
    "Using yesterdays code assignment on your own repository do the following:\n",
    "\n",
    "* Create two new branches and call them \"dev\" and \"assignment_1\"\n",
    "* checkout assignment_1 branch\n",
    "* create a new python file .py and put the changes from assignment 1 into it. \n",
    "* Commit all changes to it, write a nice commit message and everything.\n",
    "* Push this to your private Repository\n",
    "* Create a pull request into dev from assignment_1.\n",
    "\n",
    "## Part 3\n",
    "\n",
    "![code quality](../Resources/memes/codeQuality.png)\n",
    "\n",
    "1. Do a code review of your team members code, give suggestions on how to improve code, in terms of quality/readability, performance, more general solutions and so forth. If you do not understand the code ask your team member to explain it. \n",
    "\n",
    "<div class=\"alert alert-info\">\n",
    "    <b>PS:</b> remember that this can be hurtful, difficult or painful to give and receive criticism and it should be constructive. Also remember it is only suggestive and can even be wrong, and that okay, it is a opportunity to learn in both directions. \n",
    "</div>\n",
    "\n",
    "\n",
    "![code quality](../Resources/memes/codeReview.jpg)\n",
    "\n",
    "2. Fix and update according to the review you received \n",
    "3. approve your partners fixes and merge into dev then dev into master, without deleting branch assignment_1 or dev\n",
    "\n",
    "## Part 4\n",
    "check back into \"Day_2_Git_Assignment_Chaos\" and confirm everything is still correct. \n",
    "\n",
    "\n",
    "## Part 5: Optional/extra\n",
    "Set up automated linting as an automated task on your private repository when merging/committing to master\n",
    "\n",
    "https://github.com/marketplace/actions/ensure-clean-jupyter-notebooks\n",
    "\n",
    "And fix what the linter asks you to\n",
    "\n",
    "reflect and think think of any other automated task that you might want to integrate into a repository? "
   ]
  },
  {
   "cell_type": "markdown",
   "id": "d022771e",
   "metadata": {},
   "source": [
    "### write here"
   ]
  },
  {
   "cell_type": "markdown",
   "id": "a957dee5",
   "metadata": {},
   "source": []
  }
 ],
 "metadata": {
  "kernelspec": {
   "display_name": "Python 3",
   "language": "python",
   "name": "python3"
  },
  "language_info": {
   "codemirror_mode": {
    "name": "ipython",
    "version": 3
   },
   "file_extension": ".py",
   "mimetype": "text/x-python",
   "name": "python",
   "nbconvert_exporter": "python",
   "pygments_lexer": "ipython3",
   "version": "3.9.6"
  }
 },
 "nbformat": 4,
 "nbformat_minor": 5
}
