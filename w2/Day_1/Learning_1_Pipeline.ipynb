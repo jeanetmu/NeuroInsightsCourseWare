{
 "cells": [
  {
   "cell_type": "code",
   "execution_count": 1,
   "id": "76b0f4ea",
   "metadata": {},
   "outputs": [],
   "source": [
    "import os\n",
    "import glob\n",
    "import hashlib\n",
    "\n",
    "import pandas as pd\n",
    "from matplotlib import pyplot as plt\n"
   ]
  },
  {
   "cell_type": "markdown",
   "id": "adc3f439",
   "metadata": {},
   "source": [
    "We will practice writing a pipeline that 1) loads data, 2) transforms it somehow, and 3) produces informative figures.\n",
    "\n",
    "When loading data from remote locations, we will use internet standard file transfer protocols as well as data platform-specific APIs."
   ]
  },
  {
   "cell_type": "markdown",
   "id": "cbc48b0a",
   "metadata": {},
   "source": [
    "# 1. An example complete pipeline"
   ]
  },
  {
   "cell_type": "markdown",
   "id": "4d3705d6",
   "metadata": {},
   "source": [
    "## 1.1 Load data"
   ]
  },
  {
   "cell_type": "code",
   "execution_count": 2,
   "id": "0f1bf527",
   "metadata": {
    "nbgrader": {
     "grade": false,
     "grade_id": "cell-90b00bf783289050",
     "locked": false,
     "schema_version": 3,
     "solution": true,
     "task": false
    }
   },
   "outputs": [
    {
     "name": "stdout",
     "output_type": "stream",
     "text": [
      "['/home/thiago/Neuro-insights/nigit/w2_bhv/resources/foo/fooey_1.txt', '/home/thiago/Neuro-insights/nigit/w2_bhv/resources/foo/fooey_2.txt']\n"
     ]
    }
   ],
   "source": [
    "path_datadir = ''\n",
    "list_files = []\n",
    "\n",
    "### BEGIN SOLUTION\n",
    "path_datadir = os.path.abspath(os.path.join(os.pardir, 'resources'))\n",
    "list_files = glob.glob(os.path.join(path_datadir,'**', '*.txt'), recursive=True)\n",
    "### END SOLUTION\n",
    "\n",
    "print(list_files)"
   ]
  },
  {
   "cell_type": "code",
   "execution_count": 3,
   "id": "a1756342",
   "metadata": {},
   "outputs": [],
   "source": [
    "path_file = list_files[1]\n",
    "df_names = pd.read_csv(path_file, index_col=0)"
   ]
  },
  {
   "cell_type": "code",
   "execution_count": 4,
   "id": "e1e6ccdb",
   "metadata": {},
   "outputs": [
    {
     "data": {
      "text/html": [
       "<div>\n",
       "<style scoped>\n",
       "    .dataframe tbody tr th:only-of-type {\n",
       "        vertical-align: middle;\n",
       "    }\n",
       "\n",
       "    .dataframe tbody tr th {\n",
       "        vertical-align: top;\n",
       "    }\n",
       "\n",
       "    .dataframe thead th {\n",
       "        text-align: right;\n",
       "    }\n",
       "</style>\n",
       "<table border=\"1\" class=\"dataframe\">\n",
       "  <thead>\n",
       "    <tr style=\"text-align: right;\">\n",
       "      <th></th>\n",
       "      <th>firstname</th>\n",
       "      <th>lastname</th>\n",
       "      <th>email</th>\n",
       "      <th>email2</th>\n",
       "      <th>profession</th>\n",
       "    </tr>\n",
       "    <tr>\n",
       "      <th>id</th>\n",
       "      <th></th>\n",
       "      <th></th>\n",
       "      <th></th>\n",
       "      <th></th>\n",
       "      <th></th>\n",
       "    </tr>\n",
       "  </thead>\n",
       "  <tbody>\n",
       "    <tr>\n",
       "      <th>100</th>\n",
       "      <td>Sarette</td>\n",
       "      <td>Serilda</td>\n",
       "      <td>Sarette.Serilda@yopmail.com</td>\n",
       "      <td>Sarette.Serilda@gmail.com</td>\n",
       "      <td>police officer</td>\n",
       "    </tr>\n",
       "    <tr>\n",
       "      <th>101</th>\n",
       "      <td>Merry</td>\n",
       "      <td>Terencio</td>\n",
       "      <td>Merry.Terencio@yopmail.com</td>\n",
       "      <td>Merry.Terencio@gmail.com</td>\n",
       "      <td>doctor</td>\n",
       "    </tr>\n",
       "    <tr>\n",
       "      <th>102</th>\n",
       "      <td>Eolanda</td>\n",
       "      <td>Longfellow</td>\n",
       "      <td>Eolanda.Longfellow@yopmail.com</td>\n",
       "      <td>Eolanda.Longfellow@gmail.com</td>\n",
       "      <td>firefighter</td>\n",
       "    </tr>\n",
       "    <tr>\n",
       "      <th>103</th>\n",
       "      <td>Maridel</td>\n",
       "      <td>Briney</td>\n",
       "      <td>Maridel.Briney@yopmail.com</td>\n",
       "      <td>Maridel.Briney@gmail.com</td>\n",
       "      <td>police officer</td>\n",
       "    </tr>\n",
       "    <tr>\n",
       "      <th>104</th>\n",
       "      <td>Yolane</td>\n",
       "      <td>Solitta</td>\n",
       "      <td>Yolane.Solitta@yopmail.com</td>\n",
       "      <td>Yolane.Solitta@gmail.com</td>\n",
       "      <td>police officer</td>\n",
       "    </tr>\n",
       "  </tbody>\n",
       "</table>\n",
       "</div>"
      ],
      "text/plain": [
       "    firstname    lastname                           email  \\\n",
       "id                                                          \n",
       "100   Sarette     Serilda     Sarette.Serilda@yopmail.com   \n",
       "101     Merry    Terencio      Merry.Terencio@yopmail.com   \n",
       "102   Eolanda  Longfellow  Eolanda.Longfellow@yopmail.com   \n",
       "103   Maridel      Briney      Maridel.Briney@yopmail.com   \n",
       "104    Yolane     Solitta      Yolane.Solitta@yopmail.com   \n",
       "\n",
       "                           email2      profession  \n",
       "id                                                 \n",
       "100     Sarette.Serilda@gmail.com  police officer  \n",
       "101      Merry.Terencio@gmail.com          doctor  \n",
       "102  Eolanda.Longfellow@gmail.com     firefighter  \n",
       "103      Maridel.Briney@gmail.com  police officer  \n",
       "104      Yolane.Solitta@gmail.com  police officer  "
      ]
     },
     "execution_count": 4,
     "metadata": {},
     "output_type": "execute_result"
    }
   ],
   "source": [
    "df_names.head(5)"
   ]
  },
  {
   "cell_type": "code",
   "execution_count": 5,
   "id": "57089682",
   "metadata": {},
   "outputs": [
    {
     "data": {
      "text/plain": [
       "'\\nfor root, dirs, files in os.walk(path_datadir):\\n    print(dirs) \\n    for f in files:\\n        print(os.path.join(root, f))\\n'"
      ]
     },
     "execution_count": 5,
     "metadata": {},
     "output_type": "execute_result"
    }
   ],
   "source": [
    "\"\"\"\n",
    "for root, dirs, files in os.walk(path_datadir):\n",
    "    print(dirs) \n",
    "    for f in files:\n",
    "        print(os.path.join(root, f))\n",
    "\"\"\""
   ]
  },
  {
   "cell_type": "markdown",
   "id": "b1bbb778",
   "metadata": {},
   "source": [
    "### Checking data integrity"
   ]
  },
  {
   "cell_type": "code",
   "execution_count": 6,
   "id": "7d3ab309",
   "metadata": {
    "nbgrader": {
     "grade": false,
     "grade_id": "cell-f9c81ed1f45f6cc5",
     "locked": false,
     "schema_version": 3,
     "solution": true,
     "task": false
    }
   },
   "outputs": [
    {
     "data": {
      "text/plain": [
       "'f2cb513c18c9014e09945893c506ed3a'"
      ]
     },
     "execution_count": 6,
     "metadata": {},
     "output_type": "execute_result"
    }
   ],
   "source": [
    "### BEGIN SOLUTION\n",
    "hashlib.md5(open(path_file,'rb').read()).hexdigest()\n",
    "### END SOLUTION"
   ]
  },
  {
   "cell_type": "markdown",
   "id": "0a96ad9e",
   "metadata": {},
   "source": [
    "Expected hash code: `f2cb513c18c9014e09945893c506ed3a`"
   ]
  },
  {
   "cell_type": "markdown",
   "id": "990b03ca",
   "metadata": {},
   "source": [
    "## 1.2 Perform computation"
   ]
  },
  {
   "cell_type": "markdown",
   "id": "7a9011eb",
   "metadata": {},
   "source": [
    "  How many times does each letter appear on the set of all firstname names?"
   ]
  },
  {
   "cell_type": "code",
   "execution_count": 7,
   "id": "ae63ffd9",
   "metadata": {},
   "outputs": [
    {
     "name": "stdout",
     "output_type": "stream",
     "text": [
      "['a', 'b', 'c', 'd', 'e', 'f', 'g', 'h', 'i', 'j', 'k', 'l', 'm', 'n', 'o', 'p', 'q', 'r', 's', 't', 'u', 'v', 'w', 'x', 'y', 'z']\n"
     ]
    }
   ],
   "source": [
    "alphabet = [(chr(ord('a')+i)) for i in range(26)]\n",
    "print(alphabet)"
   ]
  },
  {
   "cell_type": "code",
   "execution_count": 8,
   "id": "3e9a0e31",
   "metadata": {},
   "outputs": [],
   "source": [
    "letter_count_input = df_names['firstname']"
   ]
  },
  {
   "cell_type": "code",
   "execution_count": 9,
   "id": "511f76b6",
   "metadata": {},
   "outputs": [],
   "source": [
    "temp = ''.join(letter_count_input).lower()\n",
    "temp = pd.Series(name='count_' + letter_count_input.name, data=list(temp))\n",
    "temp = temp.value_counts()\n",
    "\n",
    "letter_count_firstname = pd.DataFrame(index=alphabet)\n",
    "letter_count_firstname = letter_count_firstname.join(temp)\n",
    "letter_count_firstname = letter_count_firstname.fillna(0)\n",
    "letter_count_firstname = letter_count_firstname.astype(int)"
   ]
  },
  {
   "cell_type": "code",
   "execution_count": 10,
   "id": "d6bb3822",
   "metadata": {},
   "outputs": [],
   "source": [
    "letter_count_input = df_names['lastname']"
   ]
  },
  {
   "cell_type": "code",
   "execution_count": 11,
   "id": "73a2867a",
   "metadata": {},
   "outputs": [],
   "source": [
    "temp = ''.join(letter_count_input).lower()\n",
    "temp = pd.Series(name='count_' + letter_count_input.name, data=list(temp))\n",
    "temp = temp.value_counts()\n",
    "\n",
    "letter_count_firstname = pd.DataFrame(index=alphabet)\n",
    "letter_count_firstname = letter_count_firstname.join(temp)\n",
    "letter_count_firstname = letter_count_firstname.fillna(0)\n",
    "letter_count_firstname = letter_count_firstname.astype(int)"
   ]
  },
  {
   "cell_type": "code",
   "execution_count": 12,
   "id": "561800db",
   "metadata": {
    "nbgrader": {
     "grade": false,
     "grade_id": "cell-f6230f2dfe534938",
     "locked": false,
     "schema_version": 3,
     "solution": true,
     "task": false
    }
   },
   "outputs": [],
   "source": [
    "def letter_count(pds):\n",
    "    \"\"\"\n",
    "    letter_count counts occurences of single letters\n",
    "\n",
    "    :pds: a pandas Series with strings\n",
    "    :return: a Series with letter as index, and counts as values\n",
    "    \"\"\" \n",
    "    ### BEGIN SOLUTION\n",
    "    \n",
    "    temp = pd.Series(name=pds.name , data=list(''.join(pds).lower())).value_counts()\n",
    "    df_count = pd.DataFrame(index=[(chr(ord('a')+i)) for i in range(26)]).join(temp)\n",
    "    \n",
    "    ### END SOLUTION\n",
    "    \n",
    "    return df_count\n"
   ]
  },
  {
   "cell_type": "markdown",
   "id": "e7abc6fc",
   "metadata": {},
   "source": [
    "## 1.3 Produce output"
   ]
  },
  {
   "cell_type": "markdown",
   "id": "6c355380",
   "metadata": {},
   "source": [
    "Does letter distribution differ between firstname and lastname names?\n",
    "\n",
    "Plot normalized histograms."
   ]
  },
  {
   "cell_type": "code",
   "execution_count": 13,
   "id": "462790f7",
   "metadata": {},
   "outputs": [
    {
     "data": {
      "text/html": [
       "<div>\n",
       "<style scoped>\n",
       "    .dataframe tbody tr th:only-of-type {\n",
       "        vertical-align: middle;\n",
       "    }\n",
       "\n",
       "    .dataframe tbody tr th {\n",
       "        vertical-align: top;\n",
       "    }\n",
       "\n",
       "    .dataframe thead th {\n",
       "        text-align: right;\n",
       "    }\n",
       "</style>\n",
       "<table border=\"1\" class=\"dataframe\">\n",
       "  <thead>\n",
       "    <tr style=\"text-align: right;\">\n",
       "      <th></th>\n",
       "      <th>firstname</th>\n",
       "      <th>lastname</th>\n",
       "    </tr>\n",
       "  </thead>\n",
       "  <tbody>\n",
       "    <tr>\n",
       "      <th>a</th>\n",
       "      <td>882</td>\n",
       "      <td>688</td>\n",
       "    </tr>\n",
       "    <tr>\n",
       "      <th>b</th>\n",
       "      <td>100</td>\n",
       "      <td>169</td>\n",
       "    </tr>\n",
       "    <tr>\n",
       "      <th>c</th>\n",
       "      <td>176</td>\n",
       "      <td>210</td>\n",
       "    </tr>\n",
       "    <tr>\n",
       "      <th>d</th>\n",
       "      <td>211</td>\n",
       "      <td>237</td>\n",
       "    </tr>\n",
       "    <tr>\n",
       "      <th>e</th>\n",
       "      <td>872</td>\n",
       "      <td>697</td>\n",
       "    </tr>\n",
       "    <tr>\n",
       "      <th>f</th>\n",
       "      <td>50</td>\n",
       "      <td>63</td>\n",
       "    </tr>\n",
       "    <tr>\n",
       "      <th>g</th>\n",
       "      <td>83</td>\n",
       "      <td>126</td>\n",
       "    </tr>\n",
       "    <tr>\n",
       "      <th>h</th>\n",
       "      <td>140</td>\n",
       "      <td>203</td>\n",
       "    </tr>\n",
       "    <tr>\n",
       "      <th>i</th>\n",
       "      <td>609</td>\n",
       "      <td>463</td>\n",
       "    </tr>\n",
       "    <tr>\n",
       "      <th>j</th>\n",
       "      <td>72</td>\n",
       "      <td>34</td>\n",
       "    </tr>\n",
       "    <tr>\n",
       "      <th>k</th>\n",
       "      <td>94</td>\n",
       "      <td>110</td>\n",
       "    </tr>\n",
       "    <tr>\n",
       "      <th>l</th>\n",
       "      <td>492</td>\n",
       "      <td>455</td>\n",
       "    </tr>\n",
       "    <tr>\n",
       "      <th>m</th>\n",
       "      <td>162</td>\n",
       "      <td>188</td>\n",
       "    </tr>\n",
       "    <tr>\n",
       "      <th>n</th>\n",
       "      <td>578</td>\n",
       "      <td>496</td>\n",
       "    </tr>\n",
       "    <tr>\n",
       "      <th>o</th>\n",
       "      <td>229</td>\n",
       "      <td>380</td>\n",
       "    </tr>\n",
       "    <tr>\n",
       "      <th>p</th>\n",
       "      <td>36</td>\n",
       "      <td>85</td>\n",
       "    </tr>\n",
       "    <tr>\n",
       "      <th>q</th>\n",
       "      <td>5</td>\n",
       "      <td>8</td>\n",
       "    </tr>\n",
       "    <tr>\n",
       "      <th>r</th>\n",
       "      <td>461</td>\n",
       "      <td>514</td>\n",
       "    </tr>\n",
       "    <tr>\n",
       "      <th>s</th>\n",
       "      <td>235</td>\n",
       "      <td>271</td>\n",
       "    </tr>\n",
       "    <tr>\n",
       "      <th>t</th>\n",
       "      <td>314</td>\n",
       "      <td>291</td>\n",
       "    </tr>\n",
       "    <tr>\n",
       "      <th>u</th>\n",
       "      <td>76</td>\n",
       "      <td>139</td>\n",
       "    </tr>\n",
       "    <tr>\n",
       "      <th>v</th>\n",
       "      <td>58</td>\n",
       "      <td>59</td>\n",
       "    </tr>\n",
       "    <tr>\n",
       "      <th>w</th>\n",
       "      <td>22</td>\n",
       "      <td>53</td>\n",
       "    </tr>\n",
       "    <tr>\n",
       "      <th>x</th>\n",
       "      <td>8</td>\n",
       "      <td>13</td>\n",
       "    </tr>\n",
       "    <tr>\n",
       "      <th>y</th>\n",
       "      <td>202</td>\n",
       "      <td>161</td>\n",
       "    </tr>\n",
       "    <tr>\n",
       "      <th>z</th>\n",
       "      <td>23</td>\n",
       "      <td>31</td>\n",
       "    </tr>\n",
       "  </tbody>\n",
       "</table>\n",
       "</div>"
      ],
      "text/plain": [
       "   firstname  lastname\n",
       "a        882       688\n",
       "b        100       169\n",
       "c        176       210\n",
       "d        211       237\n",
       "e        872       697\n",
       "f         50        63\n",
       "g         83       126\n",
       "h        140       203\n",
       "i        609       463\n",
       "j         72        34\n",
       "k         94       110\n",
       "l        492       455\n",
       "m        162       188\n",
       "n        578       496\n",
       "o        229       380\n",
       "p         36        85\n",
       "q          5         8\n",
       "r        461       514\n",
       "s        235       271\n",
       "t        314       291\n",
       "u         76       139\n",
       "v         58        59\n",
       "w         22        53\n",
       "x          8        13\n",
       "y        202       161\n",
       "z         23        31"
      ]
     },
     "execution_count": 13,
     "metadata": {},
     "output_type": "execute_result"
    }
   ],
   "source": [
    "### BEGIN SOLUTION\n",
    "df_count = letter_count(df_names['firstname'])\n",
    "\n",
    "df_count.join(letter_count(df_names['lastname']))\n",
    "### END SOLUTION"
   ]
  },
  {
   "cell_type": "code",
   "execution_count": 14,
   "id": "8caddbb9",
   "metadata": {},
   "outputs": [
    {
     "data": {
      "text/html": [
       "<div>\n",
       "<style scoped>\n",
       "    .dataframe tbody tr th:only-of-type {\n",
       "        vertical-align: middle;\n",
       "    }\n",
       "\n",
       "    .dataframe tbody tr th {\n",
       "        vertical-align: top;\n",
       "    }\n",
       "\n",
       "    .dataframe thead th {\n",
       "        text-align: right;\n",
       "    }\n",
       "</style>\n",
       "<table border=\"1\" class=\"dataframe\">\n",
       "  <thead>\n",
       "    <tr style=\"text-align: right;\">\n",
       "      <th></th>\n",
       "      <th>firstname</th>\n",
       "    </tr>\n",
       "  </thead>\n",
       "  <tbody>\n",
       "    <tr>\n",
       "      <th>a</th>\n",
       "      <td>882</td>\n",
       "    </tr>\n",
       "    <tr>\n",
       "      <th>b</th>\n",
       "      <td>100</td>\n",
       "    </tr>\n",
       "    <tr>\n",
       "      <th>c</th>\n",
       "      <td>176</td>\n",
       "    </tr>\n",
       "    <tr>\n",
       "      <th>d</th>\n",
       "      <td>211</td>\n",
       "    </tr>\n",
       "    <tr>\n",
       "      <th>e</th>\n",
       "      <td>872</td>\n",
       "    </tr>\n",
       "    <tr>\n",
       "      <th>f</th>\n",
       "      <td>50</td>\n",
       "    </tr>\n",
       "    <tr>\n",
       "      <th>g</th>\n",
       "      <td>83</td>\n",
       "    </tr>\n",
       "    <tr>\n",
       "      <th>h</th>\n",
       "      <td>140</td>\n",
       "    </tr>\n",
       "    <tr>\n",
       "      <th>i</th>\n",
       "      <td>609</td>\n",
       "    </tr>\n",
       "    <tr>\n",
       "      <th>j</th>\n",
       "      <td>72</td>\n",
       "    </tr>\n",
       "    <tr>\n",
       "      <th>k</th>\n",
       "      <td>94</td>\n",
       "    </tr>\n",
       "    <tr>\n",
       "      <th>l</th>\n",
       "      <td>492</td>\n",
       "    </tr>\n",
       "    <tr>\n",
       "      <th>m</th>\n",
       "      <td>162</td>\n",
       "    </tr>\n",
       "    <tr>\n",
       "      <th>n</th>\n",
       "      <td>578</td>\n",
       "    </tr>\n",
       "    <tr>\n",
       "      <th>o</th>\n",
       "      <td>229</td>\n",
       "    </tr>\n",
       "    <tr>\n",
       "      <th>p</th>\n",
       "      <td>36</td>\n",
       "    </tr>\n",
       "    <tr>\n",
       "      <th>q</th>\n",
       "      <td>5</td>\n",
       "    </tr>\n",
       "    <tr>\n",
       "      <th>r</th>\n",
       "      <td>461</td>\n",
       "    </tr>\n",
       "    <tr>\n",
       "      <th>s</th>\n",
       "      <td>235</td>\n",
       "    </tr>\n",
       "    <tr>\n",
       "      <th>t</th>\n",
       "      <td>314</td>\n",
       "    </tr>\n",
       "    <tr>\n",
       "      <th>u</th>\n",
       "      <td>76</td>\n",
       "    </tr>\n",
       "    <tr>\n",
       "      <th>v</th>\n",
       "      <td>58</td>\n",
       "    </tr>\n",
       "    <tr>\n",
       "      <th>w</th>\n",
       "      <td>22</td>\n",
       "    </tr>\n",
       "    <tr>\n",
       "      <th>x</th>\n",
       "      <td>8</td>\n",
       "    </tr>\n",
       "    <tr>\n",
       "      <th>y</th>\n",
       "      <td>202</td>\n",
       "    </tr>\n",
       "    <tr>\n",
       "      <th>z</th>\n",
       "      <td>23</td>\n",
       "    </tr>\n",
       "  </tbody>\n",
       "</table>\n",
       "</div>"
      ],
      "text/plain": [
       "   firstname\n",
       "a        882\n",
       "b        100\n",
       "c        176\n",
       "d        211\n",
       "e        872\n",
       "f         50\n",
       "g         83\n",
       "h        140\n",
       "i        609\n",
       "j         72\n",
       "k         94\n",
       "l        492\n",
       "m        162\n",
       "n        578\n",
       "o        229\n",
       "p         36\n",
       "q          5\n",
       "r        461\n",
       "s        235\n",
       "t        314\n",
       "u         76\n",
       "v         58\n",
       "w         22\n",
       "x          8\n",
       "y        202\n",
       "z         23"
      ]
     },
     "execution_count": 14,
     "metadata": {},
     "output_type": "execute_result"
    }
   ],
   "source": [
    "### BEGIN SOLUTION\n",
    "df_count\n",
    "### END SOLUTION"
   ]
  },
  {
   "cell_type": "code",
   "execution_count": 15,
   "id": "0ec3dee8",
   "metadata": {},
   "outputs": [],
   "source": [
    "### BEGIN SOLUTION\n",
    "df_count = df_count.join(letter_count(df_names['lastname']))\n",
    "### END SOLUTION"
   ]
  },
  {
   "cell_type": "code",
   "execution_count": 16,
   "id": "24f963ee",
   "metadata": {},
   "outputs": [],
   "source": [
    "### BEGIN SOLUTION\n",
    "df_count['total'] = df_count.sum(1)\n",
    "df_count = df_count.sort_values('total', ascending=False)\n",
    "### END SOLUTION"
   ]
  },
  {
   "cell_type": "code",
   "execution_count": 17,
   "id": "9914939d",
   "metadata": {
    "nbgrader": {
     "grade": false,
     "grade_id": "cell-cdf916a9e42c8774",
     "locked": false,
     "schema_version": 3,
     "solution": true,
     "task": false
    }
   },
   "outputs": [
    {
     "data": {
      "text/plain": [
       "<matplotlib.legend.Legend at 0x7fea5e995df0>"
      ]
     },
     "execution_count": 17,
     "metadata": {},
     "output_type": "execute_result"
    },
    {
     "data": {
      "image/png": "[encoded data removed]",
      "text/plain": [
       "<Figure size 432x288 with 1 Axes>"
      ]
     },
     "metadata": {
      "needs_background": "light"
     },
     "output_type": "display_data"
    }
   ],
   "source": [
    "### BEGIN SOLUTION\n",
    "plt.plot(df_count['firstname']/df_count['firstname'].sum(), label='firstname')\n",
    "plt.plot(df_count['lastname']/df_count['lastname'].sum(), label='lastname')\n",
    "\n",
    "plt.ylabel('relative freq', fontsize=16)\n",
    "plt.xlabel('letter\\n(ordered by overall freq)', fontsize=16)\n",
    "plt.legend()\n",
    "### END SOLUTION"
   ]
  }
 ],
 "metadata": {
  "celltoolbar": "Create Assignment",
  "kernelspec": {
   "display_name": "Python 3 (ipykernel)",
   "language": "python",
   "name": "python3"
  },
  "language_info": {
   "codemirror_mode": {
    "name": "ipython",
    "version": 3
   },
   "file_extension": ".py",
   "mimetype": "text/x-python",
   "name": "python",
   "nbconvert_exporter": "python",
   "pygments_lexer": "ipython3",
   "version": "3.9.6"
  }
 },
 "nbformat": 4,
 "nbformat_minor": 5
}
