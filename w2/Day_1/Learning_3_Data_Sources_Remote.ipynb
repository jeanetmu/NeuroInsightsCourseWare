{
 "cells": [
  {
   "cell_type": "code",
   "execution_count": 1,
   "id": "76b0f4ea",
   "metadata": {},
   "outputs": [],
   "source": [
    "import os\n",
    "import glob\n",
    "import urllib\n",
    "import hashlib\n",
    "import requests\n",
    "from ftplib import FTP\n",
    "\n",
    "import wget\n",
    "import pandas as pd\n",
    "from matplotlib import pyplot as plt\n"
   ]
  },
  {
   "cell_type": "markdown",
   "id": "adc3f439",
   "metadata": {},
   "source": [
    "When loading data from remote locations, we will use internet standard file transfer protocols as well as data platform-specific APIs."
   ]
  },
  {
   "cell_type": "code",
   "execution_count": 2,
   "id": "94f7db8e",
   "metadata": {},
   "outputs": [],
   "source": [
    "path_datadir = os.path.abspath(os.path.join(os.pardir, 'resources'))"
   ]
  },
  {
   "cell_type": "markdown",
   "id": "f2650282",
   "metadata": {},
   "source": [
    "# 3 Remote data files"
   ]
  },
  {
   "cell_type": "markdown",
   "id": "645f36c1",
   "metadata": {},
   "source": [
    "## 3.1 Generic Unified Resource Locators\n",
    "URL\n",
    "\n",
    "https://en.wikipedia.org/wiki/URL\n",
    "\n",
    "\n",
    "\n",
    "<img src=https://upload.wikimedia.org/wikipedia/commons/d/d6/URI_syntax_diagram.svg>\n",
    "\n"
   ]
  },
  {
   "cell_type": "markdown",
   "id": "05817663",
   "metadata": {},
   "source": [
    "```\n",
    "https://en.wikipedia.org/wiki/URL\n",
    "\n",
    "http://localhost:8888/notebooks/w2_bhv/Day_1/assignment_part1.ipynb\n",
    "\n",
    "ftp://ftp.ncbi.nlm.nih.gov/genbank/README.genbank\n",
    "\n",
    "mailto:thiagosa@oslomet.no\n",
    "```"
   ]
  },
  {
   "cell_type": "markdown",
   "id": "132a2108",
   "metadata": {},
   "source": [
    "### ftplib"
   ]
  },
  {
   "cell_type": "code",
   "execution_count": 1,
   "id": "4337ee79",
   "metadata": {
    "nbgrader": {
     "grade": false,
     "grade_id": "cell-08c212a31635b298",
     "locked": false,
     "schema_version": 3,
     "solution": true,
     "task": false
    }
   },
   "outputs": [
    {
     "ename": "NameError",
     "evalue": "name 'FTP' is not defined",
     "output_type": "error",
     "traceback": [
      "\u001b[0;31m---------------------------------------------------------------------------\u001b[0m",
      "\u001b[0;31mNameError\u001b[0m                                 Traceback (most recent call last)",
      "\u001b[0;32m/tmp/ipykernel_62668/1656361251.py\u001b[0m in \u001b[0;36m<module>\u001b[0;34m\u001b[0m\n\u001b[1;32m      7\u001b[0m \u001b[0murlhost\u001b[0m \u001b[0;34m=\u001b[0m \u001b[0murlhost\u001b[0m\u001b[0;34m.\u001b[0m\u001b[0msplit\u001b[0m\u001b[0;34m(\u001b[0m\u001b[0;34m'/'\u001b[0m\u001b[0;34m)\u001b[0m\u001b[0;34m[\u001b[0m\u001b[0;36m0\u001b[0m\u001b[0;34m]\u001b[0m\u001b[0;34m\u001b[0m\u001b[0;34m\u001b[0m\u001b[0m\n\u001b[1;32m      8\u001b[0m \u001b[0;34m\u001b[0m\u001b[0m\n\u001b[0;32m----> 9\u001b[0;31m \u001b[0mftp\u001b[0m \u001b[0;34m=\u001b[0m \u001b[0mFTP\u001b[0m\u001b[0;34m(\u001b[0m\u001b[0murlhost\u001b[0m\u001b[0;34m)\u001b[0m  \u001b[0;31m# connect to host, default port\u001b[0m\u001b[0;34m\u001b[0m\u001b[0;34m\u001b[0m\u001b[0m\n\u001b[0m\u001b[1;32m     10\u001b[0m \u001b[0mftp\u001b[0m\u001b[0;34m.\u001b[0m\u001b[0mlogin\u001b[0m\u001b[0;34m(\u001b[0m\u001b[0;34m)\u001b[0m\u001b[0;34m\u001b[0m\u001b[0;34m\u001b[0m\u001b[0m\n\u001b[1;32m     11\u001b[0m \u001b[0;34m\u001b[0m\u001b[0m\n",
      "\u001b[0;31mNameError\u001b[0m: name 'FTP' is not defined"
     ]
    }
   ],
   "source": [
    "url = 'ftp://ftp.ncbi.nlm.nih.gov/genbank/README.genbank'\n",
    "\n",
    "### BEGIN SOLUTION\n",
    "\n",
    "urlscheme, urlhost = url.split('//')\n",
    "urlpath = '/'.join(urlhost.split('/')[1:])\n",
    "urlhost = urlhost.split('/')[0]\n",
    "\n",
    "ftp = FTP(urlhost)  # connect to host, default port\n",
    "ftp.login()\n",
    "\n",
    "ftp.cwd(os.path.dirname(urlpath))\n",
    "\n",
    "contents = ftp.nlst()\n",
    "\n",
    "if not os.path.basename(urlpath) in contents:\n",
    "       raise FileNotFoundError\n",
    "\n",
    "for i in contents[:10]:\n",
    "    print(i)\n",
    "\n",
    "# path_readme = os.path.join(path_datadir, os.path.dirname(urlpath), os.path.basename(urlpath))\n",
    "# path_readme = os.path.join(path_datadir, urlpath.split(os.sep)[0], urlpath.split(os.sep)[1])\n",
    "path_readme = os.path.join(path_datadir, *urlpath.split(os.sep))\n",
    "\n",
    "os.makedirs(os.path.dirname(path_readme), exist_ok=True)\n",
    "\n",
    "if os.path.isfile(path_readme):\n",
    "    print('Skipping ' + path_readme + ': file exists')\n",
    "else:\n",
    "    print('Downloading ' + os.path.basename(path_readme))\n",
    "    with open(path_readme, 'wb') as f:\n",
    "        ftp.retrbinary('RETR ' + os.path.basename(path_readme), f.write)\n",
    "\n",
    "ftp.quit()\n",
    "\n",
    "### END SOLUTION"
   ]
  },
  {
   "cell_type": "markdown",
   "id": "7f648a6a",
   "metadata": {},
   "source": [
    "### urllib"
   ]
  },
  {
   "cell_type": "code",
   "execution_count": 4,
   "id": "5e8394b6",
   "metadata": {},
   "outputs": [],
   "source": [
    "url = 'https://www.oslomet.no/var/oslomet/storage/images/_aliases/xxxlarge/1/0/3/4/144301-1-eng-GB/ail-02_SB_2400x1200.jpg'"
   ]
  },
  {
   "cell_type": "code",
   "execution_count": 5,
   "id": "dd3f43c3",
   "metadata": {
    "nbgrader": {
     "grade": false,
     "grade_id": "cell-cf65c0508f17a089",
     "locked": false,
     "schema_version": 3,
     "solution": true,
     "task": false
    }
   },
   "outputs": [],
   "source": [
    "### BEGIN SOLUTION\n",
    "path_jpg_urllib = os.path.join(path_datadir, 'temp', 'guga_and_the_minister_urllib.jpg')\n",
    "os.makedirs(os.path.dirname(path_jpg_urllib), exist_ok=True)\n",
    "if os.path.isfile(path_datadir):\n",
    "    print('Skiping - file exists')\n",
    "else:\n",
    "    urlObj = urllib.request.urlopen(url)\n",
    "    with open(path_jpg_urllib, 'b+w') as f:\n",
    "        f.write(urlObj.read())\n",
    "### END SOLUTION"
   ]
  },
  {
   "cell_type": "markdown",
   "id": "874c1eaf",
   "metadata": {},
   "source": [
    "![using urrlib](../resources/temp/guga_and_the_minister_urllib.jpg)"
   ]
  },
  {
   "cell_type": "markdown",
   "id": "d878bea5",
   "metadata": {},
   "source": [
    "### resp"
   ]
  },
  {
   "cell_type": "code",
   "execution_count": 6,
   "id": "817a2b7d",
   "metadata": {},
   "outputs": [],
   "source": [
    "resp = requests.get(url)\n",
    "\n",
    "### BEGIN SOLUTION\n",
    "path_jpg_resp = os.path.join(path_datadir, 'temp', 'guga_and_the_minister_resp.jpg')\n",
    "with open(path_jpg_resp, 'b+w') as f:\n",
    "    f.write(resp.content)\n",
    "### END SOLUTION"
   ]
  },
  {
   "cell_type": "markdown",
   "id": "fe710a30",
   "metadata": {},
   "source": [
    "![using resp](../resources/temp/guga_and_the_minister_resp.jpg)"
   ]
  },
  {
   "cell_type": "markdown",
   "id": "e55b278f",
   "metadata": {},
   "source": [
    "### Checking data integrity\n",
    "\n",
    "[**Checksum**](https://en.wikipedia.org/wiki/Checksum) is a short string computed from data. If the data is changed (even if just a bit) a very different string is produced."
   ]
  },
  {
   "cell_type": "code",
   "execution_count": 7,
   "id": "7c3e7a11",
   "metadata": {},
   "outputs": [
    {
     "data": {
      "text/plain": [
       "'b0b798843ea35ec0e82eb0dd40ebfd90'"
      ]
     },
     "execution_count": 7,
     "metadata": {},
     "output_type": "execute_result"
    }
   ],
   "source": [
    "### BEGIN SOLUTION\n",
    "hashlib.md5(open(path_jpg_urllib,'rb').read()).hexdigest()\n",
    "### END SOLUTION"
   ]
  },
  {
   "cell_type": "code",
   "execution_count": 8,
   "id": "8de9ab25",
   "metadata": {},
   "outputs": [
    {
     "data": {
      "text/plain": [
       "'b0b798843ea35ec0e82eb0dd40ebfd90'"
      ]
     },
     "execution_count": 8,
     "metadata": {},
     "output_type": "execute_result"
    }
   ],
   "source": [
    "### BEGIN SOLUTION\n",
    "hashlib.md5(open(path_jpg_resp,'rb').read()).hexdigest()\n",
    "### END SOLUTION"
   ]
  },
  {
   "cell_type": "markdown",
   "id": "5c908807",
   "metadata": {},
   "source": [
    "## 3.2 Data platform-specific APIs"
   ]
  },
  {
   "cell_type": "markdown",
   "id": "412d11e5",
   "metadata": {},
   "source": [
    "### AWS S3\n",
    "Amazon Web Services Simple Storage Service"
   ]
  },
  {
   "cell_type": "markdown",
   "id": "402c7eed",
   "metadata": {},
   "source": [
    "`aws s3 ls s3://dandiarchive/ --no-sign-request`\n",
    "\n",
    "https://docs.aws.amazon.com/cli/latest/reference/s3/index.html\n",
    "\n",
    "https://github.com/Originate/dbg-pds-tensorflow-demo/blob/master/notebooks/01-data-cleaning-single-stock.ipynb"
   ]
  },
  {
   "cell_type": "code",
   "execution_count": 9,
   "id": "ed7e227e",
   "metadata": {},
   "outputs": [],
   "source": [
    "# S3 BUCKET: BRAZILIAN MUSIC\n",
    "# https://registry.opendata.aws/covers-br/\n",
    "# aws s3 ls s3://covers-song-br/ --no-sign-request"
   ]
  },
  {
   "cell_type": "markdown",
   "id": "7f1d585a",
   "metadata": {},
   "source": [
    "### DANDI\n",
    "- neuroscience focused\n",
    "\n",
    "`dandi download https://api.dandiarchive.org/api/dandisets/000017/versions/draft/assets/3722e6b8-d47f-4feb-a9ae-9c368e41166b/download/ --output-dir /path/to/data/dir`\n",
    "\n",
    "https://www.dandiarchive.org/handbook/10_using_dandi/#using-the-python-cli"
   ]
  },
  {
   "cell_type": "markdown",
   "id": "eb5b3f7d",
   "metadata": {},
   "source": [
    "**Suggested reading**"
   ]
  },
  {
   "cell_type": "markdown",
   "id": "67389776",
   "metadata": {},
   "source": [
    "https://www.cerberusftp.com/ftps-vs-https-which-is-the-right-tool-for-secure-file-transfer/"
   ]
  }
 ],
 "metadata": {
  "celltoolbar": "Create Assignment",
  "kernelspec": {
   "display_name": "Python 3 (ipykernel)",
   "language": "python",
   "name": "python3"
  },
  "language_info": {
   "codemirror_mode": {
    "name": "ipython",
    "version": 3
   },
   "file_extension": ".py",
   "mimetype": "text/x-python",
   "name": "python",
   "nbconvert_exporter": "python",
   "pygments_lexer": "ipython3",
   "version": "3.9.6"
  }
 },
 "nbformat": 4,
 "nbformat_minor": 5
}
