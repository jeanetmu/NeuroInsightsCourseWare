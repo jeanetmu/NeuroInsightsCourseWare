{
 "cells": [
  {
   "cell_type": "code",
   "execution_count": 1,
   "id": "24fc0dee",
   "metadata": {},
   "outputs": [],
   "source": [
    "import os\n",
    "import glob\n",
    "\n",
    "import numpy as np\n",
    "import pandas as pd\n",
    "import seaborn as sns\n",
    "from matplotlib import pyplot as plt\n",
    "from scipy.stats import gamma, expon, norm, boltzmann, beta, bernoulli, binom, uniform, logistic"
   ]
  },
  {
   "cell_type": "code",
   "execution_count": 2,
   "id": "72b25332",
   "metadata": {},
   "outputs": [],
   "source": [
    "path_ldata = os.path.join(os.path.expanduser('~'), 'Neuro-insights', 'data')"
   ]
  },
  {
   "cell_type": "markdown",
   "id": "0f8660fa",
   "metadata": {},
   "source": [
    "# 1. Histogram and Its Abstractions"
   ]
  },
  {
   "cell_type": "code",
   "execution_count": 3,
   "id": "9d7e792b",
   "metadata": {},
   "outputs": [],
   "source": [
    "glob_pattern = os.path.join(path_ldata, '**', 'META*.csv')\n",
    "path_metacsv = glob.glob(glob_pattern, recursive=True)"
   ]
  },
  {
   "cell_type": "code",
   "execution_count": 4,
   "id": "7961c62f",
   "metadata": {},
   "outputs": [],
   "source": [
    "df = pd.read_csv(path_metacsv[0], index_col='ID')"
   ]
  },
  {
   "cell_type": "markdown",
   "id": "f0505b4f",
   "metadata": {},
   "source": [
    "## 1.1 Histogram"
   ]
  },
  {
   "cell_type": "markdown",
   "id": "6109a5b7",
   "metadata": {},
   "source": [
    "## 1.2 Normalized Histogram"
   ]
  },
  {
   "cell_type": "markdown",
   "id": "fc8c5909",
   "metadata": {},
   "source": [
    "## 1.3 Density Estimation"
   ]
  },
  {
   "cell_type": "markdown",
   "id": "d96fba2b",
   "metadata": {},
   "source": [
    "How do kernel density estimates work?"
   ]
  },
  {
   "cell_type": "markdown",
   "id": "b31a396d",
   "metadata": {},
   "source": [
    "![conv](https://upload.wikimedia.org/wikipedia/commons/6/6a/Convolution_of_box_signal_with_itself2.gif \"convoluuuution\")"
   ]
  },
  {
   "cell_type": "markdown",
   "id": "f3efb0db",
   "metadata": {},
   "source": [
    "## 1.4 Parametric Distributions"
   ]
  },
  {
   "cell_type": "markdown",
   "id": "948fac39",
   "metadata": {},
   "source": [
    "- A data histogram is a small step away from describing the data with a probability distribution.\n",
    "- That step IS the model."
   ]
  }
 ],
 "metadata": {
  "kernelspec": {
   "display_name": "Python 3 (ipykernel)",
   "language": "python",
   "name": "python3"
  },
  "language_info": {
   "codemirror_mode": {
    "name": "ipython",
    "version": 3
   },
   "file_extension": ".py",
   "mimetype": "text/x-python",
   "name": "python",
   "nbconvert_exporter": "python",
   "pygments_lexer": "ipython3",
   "version": "3.9.6"
  }
 },
 "nbformat": 4,
 "nbformat_minor": 5
}
