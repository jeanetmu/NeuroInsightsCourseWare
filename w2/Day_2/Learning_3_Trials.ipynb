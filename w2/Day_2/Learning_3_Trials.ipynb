{
 "cells": [
  {
   "cell_type": "markdown",
   "id": "026f9395",
   "metadata": {},
   "source": [
    "https://youtu.be/IOHayh06LJ4\n",
    "\n",
    "\"*...and everytime we did that we got a response*\"\n",
    "--David Hubel"
   ]
  },
  {
   "cell_type": "markdown",
   "id": "01bc1c1e",
   "metadata": {},
   "source": [
    "<img src=\"../resources/media/barlow_light_quanta.png\" width=\"750\">\n",
    "\n",
    "Barlow, H. B., Levick, W. R., & Yoon, M. (1971). Responses to single quanta of light in retinal ganglion cells of the cat. Vision Research, 11, 87–101. https://doi.org/10.1016/0042-6989(71)90033-2\n"
   ]
  },
  {
   "cell_type": "markdown",
   "id": "b571a8d6",
   "metadata": {},
   "source": [
    "**More on [Hubel & Wiesel]'s experiment:**\n",
    "\n",
    "https://youtu.be/8VdFf3egwfg"
   ]
  },
  {
   "cell_type": "markdown",
   "id": "db5ff02a",
   "metadata": {},
   "source": [
    "<img src=\"../resources/media/mr-peanutbutter.jpg\" width=\"250\">"
   ]
  }
 ],
 "metadata": {
  "kernelspec": {
   "display_name": "Python 3 (ipykernel)",
   "language": "python",
   "name": "python3"
  },
  "language_info": {
   "codemirror_mode": {
    "name": "ipython",
    "version": 3
   },
   "file_extension": ".py",
   "mimetype": "text/x-python",
   "name": "python",
   "nbconvert_exporter": "python",
   "pygments_lexer": "ipython3",
   "version": "3.9.6"
  }
 },
 "nbformat": 4,
 "nbformat_minor": 5
}
