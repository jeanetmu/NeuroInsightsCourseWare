{
 "cells": [
  {
   "cell_type": "code",
   "execution_count": null,
   "id": "47744b0f",
   "metadata": {},
   "outputs": [],
   "source": [
    "import time\n",
    "\n",
    "import pandas as pd"
   ]
  },
  {
   "cell_type": "markdown",
   "id": "7cb76bd6",
   "metadata": {},
   "source": [
    "## Finite State Machines\n",
    "\n",
    "http://www.madebyevan.com/fsm/"
   ]
  },
  {
   "cell_type": "code",
   "execution_count": null,
   "id": "34aed269",
   "metadata": {},
   "outputs": [],
   "source": [
    "states = {}\n",
    "states"
   ]
  },
  {
   "cell_type": "code",
   "execution_count": null,
   "id": "4e3e39d6",
   "metadata": {},
   "outputs": [],
   "source": [
    "states = pd.DataFrame(states)\n",
    "\n",
    "#states.set_index('state_id')"
   ]
  },
  {
   "cell_type": "code",
   "execution_count": null,
   "id": "d91d2b8d",
   "metadata": {},
   "outputs": [],
   "source": [
    "transitions = pd.DataFrame(columns=['state_id', 'event', 'transition_to'])\n",
    "transitions"
   ]
  },
  {
   "cell_type": "code",
   "execution_count": null,
   "id": "88b99b17",
   "metadata": {},
   "outputs": [],
   "source": [
    "new_entry = {'state_id':'off',\n",
    "             'event':'press_powerOn',\n",
    "             'transition_to':'rinse'}\n",
    "\n",
    "transitions = transitions.append(new_entry, ignore_index=True)\n",
    "transitions"
   ]
  },
  {
   "cell_type": "code",
   "execution_count": null,
   "id": "6ccd63a9",
   "metadata": {},
   "outputs": [],
   "source": []
  },
  {
   "cell_type": "code",
   "execution_count": null,
   "id": "fa0a7c09",
   "metadata": {},
   "outputs": [],
   "source": [
    "transitions"
   ]
  },
  {
   "cell_type": "code",
   "execution_count": null,
   "id": "db2fbf50",
   "metadata": {},
   "outputs": [],
   "source": [
    "assert not transitions[['state_id', 'event']].duplicated().any(), 'Found duplicated entries'"
   ]
  },
  {
   "cell_type": "markdown",
   "id": "203100ff",
   "metadata": {},
   "source": [
    "### Check all states in transitions exist in states"
   ]
  },
  {
   "cell_type": "code",
   "execution_count": null,
   "id": "b2a9d744",
   "metadata": {},
   "outputs": [],
   "source": [
    "for i, s in enumerate(transitions['state_id']):\n",
    "    pass"
   ]
  },
  {
   "cell_type": "code",
   "execution_count": null,
   "id": "dcf64b4c",
   "metadata": {},
   "outputs": [],
   "source": [
    "for i, s in enumerate(transitions['transition_to']):\n",
    "    print(i, s)\n",
    "    assert(s in states.index), 'State not found: ' + s    "
   ]
  },
  {
   "cell_type": "code",
   "execution_count": null,
   "id": "fbe3b183",
   "metadata": {},
   "outputs": [],
   "source": [
    "try:\n",
    "    assert(s in states.index), 'State not found: ' + s\n",
    "except AssertionError as e:\n",
    "    print(e)\n",
    "    "
   ]
  },
  {
   "cell_type": "code",
   "execution_count": null,
   "id": "46254334",
   "metadata": {},
   "outputs": [],
   "source": [
    "states = states.infer_objects()\n",
    "transitions = transitions.infer_objects()"
   ]
  },
  {
   "cell_type": "markdown",
   "id": "05a36f70",
   "metadata": {},
   "source": [
    "## Run FSM"
   ]
  },
  {
   "cell_type": "code",
   "execution_count": null,
   "id": "4c6808a4",
   "metadata": {},
   "outputs": [],
   "source": [
    "def setKeyBindings(transitions):\n",
    "\n",
    "    raise NotImplementedError\n",
    "    return"
   ]
  },
  {
   "cell_type": "code",
   "execution_count": null,
   "id": "0a566708",
   "metadata": {},
   "outputs": [],
   "source": [
    "state0 = None\n",
    "keyBindings = None"
   ]
  },
  {
   "cell_type": "code",
   "execution_count": null,
   "id": "2f68bd9a",
   "metadata": {
    "scrolled": true
   },
   "outputs": [],
   "source": [
    "current_state = state0\n",
    "while True:\n",
    "    pass\n",
    "    "
   ]
  },
  {
   "cell_type": "markdown",
   "id": "45d0165a",
   "metadata": {},
   "source": [
    "## Further reading:\n",
    "https://moral-robots.com/technology/fun-with-finite-state-machines/"
   ]
  }
 ],
 "metadata": {
  "kernelspec": {
   "display_name": "Python 3 (ipykernel)",
   "language": "python",
   "name": "python3"
  },
  "language_info": {
   "codemirror_mode": {
    "name": "ipython",
    "version": 3
   },
   "file_extension": ".py",
   "mimetype": "text/x-python",
   "name": "python",
   "nbconvert_exporter": "python",
   "pygments_lexer": "ipython3",
   "version": "3.9.6"
  }
 },
 "nbformat": 4,
 "nbformat_minor": 5
}
