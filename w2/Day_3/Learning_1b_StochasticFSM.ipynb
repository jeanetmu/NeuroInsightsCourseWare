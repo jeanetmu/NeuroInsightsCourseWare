{
 "cells": [
  {
   "cell_type": "code",
   "execution_count": 1,
   "id": "47744b0f",
   "metadata": {},
   "outputs": [],
   "source": [
    "import time\n",
    "\n",
    "import numpy as np\n",
    "import pandas as pd"
   ]
  },
  {
   "cell_type": "markdown",
   "id": "7cb76bd6",
   "metadata": {},
   "source": [
    "## Stochastic FSM\n",
    "aka [Probabilistic Automaton](https://en.wikipedia.org/wiki/Probabilistic_automaton)"
   ]
  },
  {
   "cell_type": "code",
   "execution_count": 2,
   "id": "010b2455",
   "metadata": {},
   "outputs": [],
   "source": [
    "states = pd.DataFrame({'state_id': ['off', 'rinse', 'ready_espresso', 'serve_espresso'],'output': ['', 'dirty, hot water', '', 'espresso']}).set_index('state_id')"
   ]
  },
  {
   "cell_type": "code",
   "execution_count": 3,
   "id": "dd43a774",
   "metadata": {},
   "outputs": [
    {
     "data": {
      "text/html": [
       "<div>\n",
       "<style scoped>\n",
       "    .dataframe tbody tr th:only-of-type {\n",
       "        vertical-align: middle;\n",
       "    }\n",
       "\n",
       "    .dataframe tbody tr th {\n",
       "        vertical-align: top;\n",
       "    }\n",
       "\n",
       "    .dataframe thead th {\n",
       "        text-align: right;\n",
       "    }\n",
       "</style>\n",
       "<table border=\"1\" class=\"dataframe\">\n",
       "  <thead>\n",
       "    <tr style=\"text-align: right;\">\n",
       "      <th></th>\n",
       "      <th>state_id</th>\n",
       "      <th>event</th>\n",
       "      <th>transition_to</th>\n",
       "      <th>transition_prob</th>\n",
       "    </tr>\n",
       "  </thead>\n",
       "  <tbody>\n",
       "    <tr>\n",
       "      <th>0</th>\n",
       "      <td>off</td>\n",
       "      <td>press_powerOn</td>\n",
       "      <td>rinse</td>\n",
       "      <td>NaN</td>\n",
       "    </tr>\n",
       "    <tr>\n",
       "      <th>1</th>\n",
       "      <td>rinse</td>\n",
       "      <td>t</td>\n",
       "      <td>ready_espresso</td>\n",
       "      <td>NaN</td>\n",
       "    </tr>\n",
       "    <tr>\n",
       "      <th>2</th>\n",
       "      <td>ready_espresso</td>\n",
       "      <td>press_serve</td>\n",
       "      <td>[serve_espresso, rinse]</td>\n",
       "      <td>[0.9, 0.1]</td>\n",
       "    </tr>\n",
       "    <tr>\n",
       "      <th>3</th>\n",
       "      <td>ready_espresso</td>\n",
       "      <td>press_powerOff</td>\n",
       "      <td>off</td>\n",
       "      <td>NaN</td>\n",
       "    </tr>\n",
       "    <tr>\n",
       "      <th>4</th>\n",
       "      <td>serve_espresso</td>\n",
       "      <td>t</td>\n",
       "      <td>ready_espresso</td>\n",
       "      <td>NaN</td>\n",
       "    </tr>\n",
       "  </tbody>\n",
       "</table>\n",
       "</div>"
      ],
      "text/plain": [
       "         state_id           event            transition_to transition_prob\n",
       "0             off   press_powerOn                    rinse             NaN\n",
       "1           rinse               t           ready_espresso             NaN\n",
       "2  ready_espresso     press_serve  [serve_espresso, rinse]      [0.9, 0.1]\n",
       "3  ready_espresso  press_powerOff                      off             NaN\n",
       "4  serve_espresso               t           ready_espresso             NaN"
      ]
     },
     "execution_count": 3,
     "metadata": {},
     "output_type": "execute_result"
    }
   ],
   "source": [
    "transitions = pd.DataFrame(columns=['state_id', 'event', 'transition_to'])\n",
    "\n",
    "new_entry = {'state_id':'off',\n",
    "             'event':'press_powerOn',\n",
    "             'transition_to':'rinse'}\n",
    "transitions = transitions.append(new_entry, ignore_index=True)\n",
    "\n",
    "new_entry = {'state_id':'rinse',\n",
    "             'event':'t',\n",
    "             'transition_to':'ready_espresso'}\n",
    "transitions = transitions.append(new_entry, ignore_index=True)\n",
    "\n",
    "\n",
    "new_entry = {'state_id':'ready_espresso',\n",
    "             'event':'press_serve',\n",
    "             'transition_to':['serve_espresso', 'rinse'],\n",
    "             'transition_prob': [0.9, 0.1]}\n",
    "\n",
    "transitions = transitions.append(new_entry, ignore_index=True)\n",
    "\n",
    "new_entry = {'state_id':'ready_espresso',\n",
    "             'event':'press_powerOff',\n",
    "             'transition_to':'off'}\n",
    "transitions = transitions.append(new_entry, ignore_index=True)\n",
    "\n",
    "new_entry = {'state_id':'serve_espresso',\n",
    "             'event':'t',\n",
    "             'transition_to':'ready_espresso'}\n",
    "\n",
    "transitions = transitions.append(new_entry, ignore_index=True)\n",
    "\n",
    "transitions"
   ]
  },
  {
   "cell_type": "code",
   "execution_count": 4,
   "id": "f9c7d189",
   "metadata": {},
   "outputs": [],
   "source": [
    "states = states.infer_objects()\n",
    "transitions = transitions.infer_objects()"
   ]
  },
  {
   "cell_type": "markdown",
   "id": "f91fb672",
   "metadata": {},
   "source": [
    "## Run FSM"
   ]
  },
  {
   "cell_type": "code",
   "execution_count": 5,
   "id": "0c371265",
   "metadata": {},
   "outputs": [],
   "source": [
    "def setKeyBindings(transitions):\n",
    "\n",
    "    k = {}\n",
    "    for e in transitions['event']:\n",
    "        if e == 't':\n",
    "            continue\n",
    "        else:\n",
    "            k[input('Type key to bind with event ' + e + ': ')] = e\n",
    "\n",
    "    return k"
   ]
  },
  {
   "cell_type": "code",
   "execution_count": 6,
   "id": "1355d07f",
   "metadata": {},
   "outputs": [],
   "source": [
    "state0 = None\n",
    "keyBindings = {'1': 'press_powerOn', 's': 'press_serve', '0': 'press_powerOff'}\n",
    "nRepeats = 10"
   ]
  },
  {
   "cell_type": "code",
   "execution_count": 7,
   "id": "6c7c3fb5",
   "metadata": {},
   "outputs": [],
   "source": [
    "def runFSM(states, transitions, state0=None, keyBindings=None, nRepeats=10, sleepTime=5):\n",
    "\n",
    "    state0 = transitions.loc[0, 'state_id'] if state0 is None else state0\n",
    "    keyBindings = setKeyBindings(transitions) if keyBindings is None else keyBindings\n",
    "\n",
    "    current_state = state0\n",
    "\n",
    "    for iTral in range(nRepeats):\n",
    "        print('\\n\\t' + states.loc[current_state, 'output'])\n",
    "        time.sleep(.2)\n",
    "        if 't' in transitions.loc[transitions['state_id']==current_state, 'event'].values:\n",
    "            time.sleep(sleepTime)\n",
    "            event = 't'\n",
    "        else:\n",
    "            event = keyBindings[input('waiting for input: ')]\n",
    "\n",
    "        next_state = transitions.loc[(transitions['state_id']==current_state)*(transitions['event']==event),\n",
    "                                     'transition_to'].squeeze()\n",
    "        if isinstance(next_state, list):\n",
    "            candidate_states = transitions.loc[(transitions['state_id']==current_state)*(transitions['event']==event),\n",
    "                                     'transition_to'].squeeze()\n",
    "            p = transitions.loc[(transitions['state_id']==current_state)*(transitions['event']==event),\n",
    "                                                 'transition_prob'].squeeze()\n",
    "            \n",
    "            next_state = np.random.choice(candidate_states, p=p).item()\n",
    "            \n",
    "        current_state = next_state\n",
    "        \n",
    "    return\n",
    "    "
   ]
  },
  {
   "cell_type": "code",
   "execution_count": 8,
   "id": "2dc1bacd",
   "metadata": {},
   "outputs": [
    {
     "name": "stdout",
     "output_type": "stream",
     "text": [
      "\n",
      "\t\n",
      "waiting for input: 1\n",
      "\n",
      "\tdirty, hot water\n",
      "\n",
      "\t\n",
      "waiting for input: s\n",
      "\n",
      "\tespresso\n",
      "\n",
      "\t\n",
      "waiting for input: s\n",
      "\n",
      "\tespresso\n",
      "\n",
      "\t\n",
      "waiting for input: s\n",
      "\n",
      "\tespresso\n",
      "\n",
      "\t\n",
      "waiting for input: s\n",
      "\n",
      "\tdirty, hot water\n"
     ]
    }
   ],
   "source": [
    "runFSM(states, transitions, keyBindings=keyBindings, sleepTime=.5)"
   ]
  },
  {
   "cell_type": "markdown",
   "id": "9a4ed334",
   "metadata": {},
   "source": [
    "<img src=https://media.giphy.com/media/YQM4N3OWpe18y7hDQA/giphy.gif width=400>"
   ]
  }
 ],
 "metadata": {
  "kernelspec": {
   "display_name": "Python 3 (ipykernel)",
   "language": "python",
   "name": "python3"
  },
  "language_info": {
   "codemirror_mode": {
    "name": "ipython",
    "version": 3
   },
   "file_extension": ".py",
   "mimetype": "text/x-python",
   "name": "python",
   "nbconvert_exporter": "python",
   "pygments_lexer": "ipython3",
   "version": "3.9.6"
  }
 },
 "nbformat": 4,
 "nbformat_minor": 5
}
