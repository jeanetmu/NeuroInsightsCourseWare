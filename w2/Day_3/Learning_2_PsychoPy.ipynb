{
 "cells": [
  {
   "cell_type": "code",
   "execution_count": 1,
   "id": "dce18cc0",
   "metadata": {},
   "outputs": [],
   "source": [
    "import os\n",
    "\n",
    "import numpy as np\n",
    "import pandas as pd"
   ]
  },
  {
   "cell_type": "markdown",
   "id": "d8504113",
   "metadata": {},
   "source": [
    "<img src=../resources/media/stroop_person.png width=250>\n",
    "\n",
    "I have a friend. His name is Scott, but he's actually from Ireland. It is really confusing."
   ]
  },
  {
   "cell_type": "markdown",
   "id": "0818789a",
   "metadata": {},
   "source": [
    "# Stroop Task"
   ]
  },
  {
   "cell_type": "markdown",
   "id": "d05ff660",
   "metadata": {},
   "source": [
    "https://youtu.be/E92GSwr46DY"
   ]
  },
  {
   "cell_type": "markdown",
   "id": "e885cf1a",
   "metadata": {},
   "source": [
    "<img src=\"../resources/media/fsm_stroop.png\">"
   ]
  },
  {
   "cell_type": "markdown",
   "id": "1fd46cab",
   "metadata": {},
   "source": [
    "# PsychoPy\n",
    "\n",
    "- Builder, Coder\n",
    "- Flow, Routine, Components"
   ]
  },
  {
   "cell_type": "markdown",
   "id": "046064f3",
   "metadata": {},
   "source": [
    "Let's follow a tutorial by the creator, [Jon Peirce](https://orcid.org/0000-0002-9504-4342)\n",
    "\n",
    "https://youtu.be/VV6qhuQgsiI\n",
    "\n",
    "https://sync-tube.de/rooms/ygbEBe7JRd"
   ]
  },
  {
   "cell_type": "markdown",
   "id": "f3733b72",
   "metadata": {},
   "source": [
    "<span style='color:white'>\n",
    "*Step-by-step*\n",
    "- Add Text component\n",
    "    - Name: target\n",
    "    - Start: 0.5\n",
    "    - End: 5\n",
    "- Add Keyboard component\n",
    "    - Name: response\n",
    "    - Start: 0.5\n",
    "    - End: inf\n",
    "- Add loop\n",
    "    - Name: trials\n",
    "    - Conditions file (see below)\n",
    "- Set colour\n",
    "    - target.color\n",
    "    - every repeat\n",
    "- Set word\n",
    "    - target.text\n",
    "    - every repeat\n",
    "- Set response\n",
    "    - allowedKeys: 'left', 'right', 'down'\n",
    "    - forceEndRoutine: True\n",
    "    - storeCorrect: True\n",
    "    - correctAns: $corrAns\n",
    "- Add instructions routine\n",
    "    - Name: instructions\n",
    "- Add Text component\n",
    "    - Name: instrText\n",
    "    - Start: \n",
    "    - End: inf\n",
    "    - Text: 'Choose the color of the letters, ignoring the word:\n",
    "                left = red\n",
    "                down = green\n",
    "                right = blue'\n",
    "- Add Keyboard component\n",
    "    - Start: 0\n",
    "    - End: inf\n",
    "    - allowedKeys: blank\n",
    "    - forceEndRoutine: True\n",
    "- Check experiment settings\n",
    "- Sync with Pavlovia\n",
    "</span>"
   ]
  },
  {
   "cell_type": "markdown",
   "id": "6377d2c6",
   "metadata": {},
   "source": [
    "## Conditions file"
   ]
  },
  {
   "cell_type": "code",
   "execution_count": 2,
   "id": "5a3b750c",
   "metadata": {},
   "outputs": [],
   "source": [
    "conditions = pd.DataFrame({'word':['red', 'red', 'green', 'green', 'blue', 'blue'],\n",
    "                           'colour':['red', 'green', 'green', 'blue', 'blue', 'red']\n",
    "                          })"
   ]
  },
  {
   "cell_type": "code",
   "execution_count": 3,
   "id": "60488f6d",
   "metadata": {},
   "outputs": [
    {
     "data": {
      "text/html": [
       "<div>\n",
       "<style scoped>\n",
       "    .dataframe tbody tr th:only-of-type {\n",
       "        vertical-align: middle;\n",
       "    }\n",
       "\n",
       "    .dataframe tbody tr th {\n",
       "        vertical-align: top;\n",
       "    }\n",
       "\n",
       "    .dataframe thead th {\n",
       "        text-align: right;\n",
       "    }\n",
       "</style>\n",
       "<table border=\"1\" class=\"dataframe\">\n",
       "  <thead>\n",
       "    <tr style=\"text-align: right;\">\n",
       "      <th></th>\n",
       "      <th>word</th>\n",
       "      <th>colour</th>\n",
       "    </tr>\n",
       "  </thead>\n",
       "  <tbody>\n",
       "    <tr>\n",
       "      <th>0</th>\n",
       "      <td>red</td>\n",
       "      <td>red</td>\n",
       "    </tr>\n",
       "    <tr>\n",
       "      <th>1</th>\n",
       "      <td>red</td>\n",
       "      <td>green</td>\n",
       "    </tr>\n",
       "    <tr>\n",
       "      <th>2</th>\n",
       "      <td>green</td>\n",
       "      <td>green</td>\n",
       "    </tr>\n",
       "    <tr>\n",
       "      <th>3</th>\n",
       "      <td>green</td>\n",
       "      <td>blue</td>\n",
       "    </tr>\n",
       "    <tr>\n",
       "      <th>4</th>\n",
       "      <td>blue</td>\n",
       "      <td>blue</td>\n",
       "    </tr>\n",
       "    <tr>\n",
       "      <th>5</th>\n",
       "      <td>blue</td>\n",
       "      <td>red</td>\n",
       "    </tr>\n",
       "  </tbody>\n",
       "</table>\n",
       "</div>"
      ],
      "text/plain": [
       "    word colour\n",
       "0    red    red\n",
       "1    red  green\n",
       "2  green  green\n",
       "3  green   blue\n",
       "4   blue   blue\n",
       "5   blue    red"
      ]
     },
     "execution_count": 3,
     "metadata": {},
     "output_type": "execute_result"
    }
   ],
   "source": [
    "conditions"
   ]
  },
  {
   "cell_type": "code",
   "execution_count": 4,
   "id": "ea06cad7",
   "metadata": {},
   "outputs": [],
   "source": [
    "congruent = (conditions['word']==conditions['colour']).astype(int)"
   ]
  },
  {
   "cell_type": "code",
   "execution_count": 5,
   "id": "9b775b67",
   "metadata": {},
   "outputs": [],
   "source": [
    "# DataFrame.insert(loc, column, value)\n",
    "conditions.insert(2, 'congruent', congruent)\n",
    "\n",
    "conditions['congruent'] = congruent"
   ]
  },
  {
   "cell_type": "markdown",
   "id": "da6a5c76",
   "metadata": {},
   "source": [
    "https://pandas.pydata.org/pandas-docs/stable/reference/api/pandas.DataFrame.insert.html"
   ]
  },
  {
   "cell_type": "code",
   "execution_count": 6,
   "id": "9e0483e3",
   "metadata": {},
   "outputs": [
    {
     "data": {
      "text/html": [
       "<div>\n",
       "<style scoped>\n",
       "    .dataframe tbody tr th:only-of-type {\n",
       "        vertical-align: middle;\n",
       "    }\n",
       "\n",
       "    .dataframe tbody tr th {\n",
       "        vertical-align: top;\n",
       "    }\n",
       "\n",
       "    .dataframe thead th {\n",
       "        text-align: right;\n",
       "    }\n",
       "</style>\n",
       "<table border=\"1\" class=\"dataframe\">\n",
       "  <thead>\n",
       "    <tr style=\"text-align: right;\">\n",
       "      <th></th>\n",
       "      <th>word</th>\n",
       "      <th>colour</th>\n",
       "      <th>congruent</th>\n",
       "    </tr>\n",
       "  </thead>\n",
       "  <tbody>\n",
       "    <tr>\n",
       "      <th>0</th>\n",
       "      <td>red</td>\n",
       "      <td>red</td>\n",
       "      <td>1</td>\n",
       "    </tr>\n",
       "    <tr>\n",
       "      <th>1</th>\n",
       "      <td>red</td>\n",
       "      <td>green</td>\n",
       "      <td>0</td>\n",
       "    </tr>\n",
       "    <tr>\n",
       "      <th>2</th>\n",
       "      <td>green</td>\n",
       "      <td>green</td>\n",
       "      <td>1</td>\n",
       "    </tr>\n",
       "    <tr>\n",
       "      <th>3</th>\n",
       "      <td>green</td>\n",
       "      <td>blue</td>\n",
       "      <td>0</td>\n",
       "    </tr>\n",
       "    <tr>\n",
       "      <th>4</th>\n",
       "      <td>blue</td>\n",
       "      <td>blue</td>\n",
       "      <td>1</td>\n",
       "    </tr>\n",
       "    <tr>\n",
       "      <th>5</th>\n",
       "      <td>blue</td>\n",
       "      <td>red</td>\n",
       "      <td>0</td>\n",
       "    </tr>\n",
       "  </tbody>\n",
       "</table>\n",
       "</div>"
      ],
      "text/plain": [
       "    word colour  congruent\n",
       "0    red    red          1\n",
       "1    red  green          0\n",
       "2  green  green          1\n",
       "3  green   blue          0\n",
       "4   blue   blue          1\n",
       "5   blue    red          0"
      ]
     },
     "execution_count": 6,
     "metadata": {},
     "output_type": "execute_result"
    }
   ],
   "source": [
    "conditions"
   ]
  },
  {
   "cell_type": "markdown",
   "id": "1afba93b",
   "metadata": {},
   "source": [
    "#### Correct Answer"
   ]
  },
  {
   "cell_type": "code",
   "execution_count": 7,
   "id": "d6d3043b",
   "metadata": {},
   "outputs": [],
   "source": [
    "color2ans = {'red': 'left', 'green': 'down', 'blue': 'right'}\n",
    "\n",
    "corrAns = []\n",
    "for c in conditions['colour']:\n",
    "    corrAns.append(color2ans[c])\n",
    "\n",
    "conditions['corrAns'] = corrAns"
   ]
  },
  {
   "cell_type": "code",
   "execution_count": 8,
   "id": "4a7d44d3",
   "metadata": {},
   "outputs": [],
   "source": [
    "## ALTERNATIVE ONE-LINER\n",
    "# conditions.insert(conditions.shape[1], 'corrAns', [{'red': 'left', 'green': 'down', 'blue': 'right'}[c] for c in conditions['colour']])"
   ]
  },
  {
   "cell_type": "code",
   "execution_count": 9,
   "id": "90bf337a",
   "metadata": {},
   "outputs": [
    {
     "data": {
      "text/html": [
       "<div>\n",
       "<style scoped>\n",
       "    .dataframe tbody tr th:only-of-type {\n",
       "        vertical-align: middle;\n",
       "    }\n",
       "\n",
       "    .dataframe tbody tr th {\n",
       "        vertical-align: top;\n",
       "    }\n",
       "\n",
       "    .dataframe thead th {\n",
       "        text-align: right;\n",
       "    }\n",
       "</style>\n",
       "<table border=\"1\" class=\"dataframe\">\n",
       "  <thead>\n",
       "    <tr style=\"text-align: right;\">\n",
       "      <th></th>\n",
       "      <th>word</th>\n",
       "      <th>colour</th>\n",
       "      <th>congruent</th>\n",
       "      <th>corrAns</th>\n",
       "    </tr>\n",
       "  </thead>\n",
       "  <tbody>\n",
       "    <tr>\n",
       "      <th>0</th>\n",
       "      <td>red</td>\n",
       "      <td>red</td>\n",
       "      <td>1</td>\n",
       "      <td>left</td>\n",
       "    </tr>\n",
       "    <tr>\n",
       "      <th>1</th>\n",
       "      <td>red</td>\n",
       "      <td>green</td>\n",
       "      <td>0</td>\n",
       "      <td>down</td>\n",
       "    </tr>\n",
       "    <tr>\n",
       "      <th>2</th>\n",
       "      <td>green</td>\n",
       "      <td>green</td>\n",
       "      <td>1</td>\n",
       "      <td>down</td>\n",
       "    </tr>\n",
       "    <tr>\n",
       "      <th>3</th>\n",
       "      <td>green</td>\n",
       "      <td>blue</td>\n",
       "      <td>0</td>\n",
       "      <td>right</td>\n",
       "    </tr>\n",
       "    <tr>\n",
       "      <th>4</th>\n",
       "      <td>blue</td>\n",
       "      <td>blue</td>\n",
       "      <td>1</td>\n",
       "      <td>right</td>\n",
       "    </tr>\n",
       "    <tr>\n",
       "      <th>5</th>\n",
       "      <td>blue</td>\n",
       "      <td>red</td>\n",
       "      <td>0</td>\n",
       "      <td>left</td>\n",
       "    </tr>\n",
       "  </tbody>\n",
       "</table>\n",
       "</div>"
      ],
      "text/plain": [
       "    word colour  congruent corrAns\n",
       "0    red    red          1    left\n",
       "1    red  green          0    down\n",
       "2  green  green          1    down\n",
       "3  green   blue          0   right\n",
       "4   blue   blue          1   right\n",
       "5   blue    red          0    left"
      ]
     },
     "execution_count": 9,
     "metadata": {},
     "output_type": "execute_result"
    }
   ],
   "source": [
    "conditions"
   ]
  },
  {
   "cell_type": "markdown",
   "id": "c83bffba",
   "metadata": {},
   "source": [
    "#### Create file"
   ]
  },
  {
   "cell_type": "code",
   "execution_count": 10,
   "id": "0d6c8f82",
   "metadata": {},
   "outputs": [
    {
     "name": "stdout",
     "output_type": "stream",
     "text": [
      "/home/thiago/Documents/PsychoPy/stroop\n"
     ]
    }
   ],
   "source": [
    "path_task = os.path.join(os.path.expanduser('~'), 'Documents', 'PsychoPy', 'stroop')\n",
    "print(path_task)"
   ]
  },
  {
   "cell_type": "code",
   "execution_count": 11,
   "id": "be316525",
   "metadata": {},
   "outputs": [],
   "source": [
    "os.makedirs(path_task, exist_ok=True)"
   ]
  },
  {
   "cell_type": "code",
   "execution_count": 12,
   "id": "13831baa",
   "metadata": {},
   "outputs": [],
   "source": [
    "conditions.to_csv(os.path.join(path_task, 'conditions.csv'), index=False)"
   ]
  },
  {
   "cell_type": "markdown",
   "id": "4cfb4cf9",
   "metadata": {},
   "source": [
    "## Code block"
   ]
  },
  {
   "cell_type": "markdown",
   "id": "7b86c216",
   "metadata": {},
   "source": [
    "### Shuffling an array"
   ]
  },
  {
   "cell_type": "code",
   "execution_count": 13,
   "id": "a4e19cc6",
   "metadata": {},
   "outputs": [
    {
     "name": "stdout",
     "output_type": "stream",
     "text": [
      "[0.1, 0.25, 0.5]\n"
     ]
    }
   ],
   "source": [
    "[pa, pb, pc] = np.random.choice([0.1, 0.25, 0.5], size=3,  replace=False)\n",
    "\n",
    "print([pa, pb, pc])"
   ]
  },
  {
   "cell_type": "markdown",
   "id": "a29f922e",
   "metadata": {},
   "source": [
    "JavaScript equivalent:\n",
    "```javascript\n",
    "var P = [0.1, 0.25, 0.5];\n",
    "\n",
    "for (let i = P.length - 1; i > 0; i--) {\n",
    "  const j = Math.floor(Math.random() * i)\n",
    "  const temp = P[i]\n",
    "  P[i] = P[j]\n",
    "  P[j] = temp\n",
    "}\n",
    "\n",
    "pa = P.pop()\n",
    "pb = P.pop()\n",
    "pc = P.pop()\n",
    "```"
   ]
  },
  {
   "cell_type": "markdown",
   "id": "1b35e98c",
   "metadata": {},
   "source": [
    "<a href='https://dilbert.com/strip/2001-10-25'><img src=https://assets.amuniversal.com/321a39e06d6401301d80001dd8b71c47></a>"
   ]
  }
 ],
 "metadata": {
  "kernelspec": {
   "display_name": "Python 3 (ipykernel)",
   "language": "python",
   "name": "python3"
  },
  "language_info": {
   "codemirror_mode": {
    "name": "ipython",
    "version": 3
   },
   "file_extension": ".py",
   "mimetype": "text/x-python",
   "name": "python",
   "nbconvert_exporter": "python",
   "pygments_lexer": "ipython3",
   "version": "3.9.6"
  }
 },
 "nbformat": 4,
 "nbformat_minor": 5
}
