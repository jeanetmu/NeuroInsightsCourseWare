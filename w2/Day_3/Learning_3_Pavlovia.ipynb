{
 "cells": [
  {
   "cell_type": "markdown",
   "id": "2146f960",
   "metadata": {},
   "source": [
    "# Pavlovia\n",
    "\n"
   ]
  },
  {
   "cell_type": "markdown",
   "id": "2132c548",
   "metadata": {},
   "source": [
    "- JavaScript\n",
    "\n",
    "- Server to run code\n",
    "\n",
    "- Could be any server - IaaS included (AWS, GCP, Azure, etc)\n",
    "\n",
    "- Pavlovia\n",
    "\n",
    "- GitLab"
   ]
  }
 ],
 "metadata": {
  "kernelspec": {
   "display_name": "Python 3 (ipykernel)",
   "language": "python",
   "name": "python3"
  },
  "language_info": {
   "codemirror_mode": {
    "name": "ipython",
    "version": 3
   },
   "file_extension": ".py",
   "mimetype": "text/x-python",
   "name": "python",
   "nbconvert_exporter": "python",
   "pygments_lexer": "ipython3",
   "version": "3.9.6"
  }
 },
 "nbformat": 4,
 "nbformat_minor": 5
}
