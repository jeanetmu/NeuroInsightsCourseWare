{
 "cells": [
  {
   "cell_type": "code",
   "execution_count": null,
   "id": "96dcc6e7",
   "metadata": {},
   "outputs": [],
   "source": [
    "import os\n",
    "import hashlib\n",
    "\n",
    "from ftplib import FTP\n",
    "\n",
    "import pandas as pd\n",
    "import seaborn as sns"
   ]
  },
  {
   "cell_type": "markdown",
   "id": "663801b6",
   "metadata": {},
   "source": [
    "# 1. Create a local data directory"
   ]
  },
  {
   "cell_type": "markdown",
   "id": "8977915a",
   "metadata": {},
   "source": [
    "Create a string variable called `path_ldata`.\n",
    "Assign to it the path to a local data directory (recommended: outside the repo)"
   ]
  },
  {
   "cell_type": "code",
   "execution_count": null,
   "id": "d34e4e71",
   "metadata": {
    "nbgrader": {
     "grade": false,
     "grade_id": "cell-7bb1ddfe289411e9",
     "locked": false,
     "schema_version": 3,
     "solution": true,
     "task": false
    }
   },
   "outputs": [],
   "source": [
    "path_ldata = ''\n",
    "# YOUR CODE HERE\n",
    "raise NotImplementedError()"
   ]
  },
  {
   "cell_type": "markdown",
   "id": "80630cad",
   "metadata": {},
   "source": [
    "Create the data directory if it doesn't yet exist.\n",
    "Create a subdirectory called `LEMON`.\n",
    "The file will be later download inside this subdirectory."
   ]
  },
  {
   "cell_type": "code",
   "execution_count": null,
   "id": "6c86f63f",
   "metadata": {
    "nbgrader": {
     "grade": false,
     "grade_id": "cell-b9948efa6ceba6c8",
     "locked": false,
     "schema_version": 3,
     "solution": true,
     "task": false
    }
   },
   "outputs": [],
   "source": [
    "# YOUR CODE HERE\n",
    "raise NotImplementedError()"
   ]
  },
  {
   "cell_type": "markdown",
   "id": "8b2a4fbc",
   "metadata": {},
   "source": [
    "# 2. Locate and download dataset 🕵️‍"
   ]
  },
  {
   "cell_type": "markdown",
   "id": "cf114e21",
   "metadata": {},
   "source": [
    "We will work with a `.csv` file containing information such as gender, age, education, as well as some clinical indicators of about 200 participants of a study carried at Max Plack Institute in Leipzig, Germany.\n",
    "\n",
    "First, you'll do a bit of detective work: I give you a DOI, you locate the URL to the file on an open FTP server.\n",
    "\n",
    "The DOI is `10.1038/sdata.2018.308`. That's all I'll say for now.\n",
    "\n",
    "Good luck!"
   ]
  },
  {
   "cell_type": "markdown",
   "id": "be982ea9",
   "metadata": {},
   "source": [
    "<font color='f2f3f4'>find the url at the bottom of the next assignment</font>"
   ]
  },
  {
   "cell_type": "markdown",
   "id": "923d609a",
   "metadata": {},
   "source": [
    "![detPik](https://media.giphy.com/media/WnBUGGnQzr8ErOjzhl/giphy.gif \"pika pika ftpeeeee!\")"
   ]
  },
  {
   "cell_type": "code",
   "execution_count": null,
   "id": "321dc8fb",
   "metadata": {
    "nbgrader": {
     "grade": false,
     "grade_id": "cell-3aa823a352607406",
     "locked": false,
     "schema_version": 3,
     "solution": true,
     "task": false
    }
   },
   "outputs": [],
   "source": [
    "# YOUR CODE HERE\n",
    "raise NotImplementedError()"
   ]
  },
  {
   "cell_type": "markdown",
   "id": "3e601cba",
   "metadata": {},
   "source": [
    "Now that you have found the URL, let's download the .csv file into the local data directory."
   ]
  },
  {
   "cell_type": "code",
   "execution_count": null,
   "id": "ab683e4d",
   "metadata": {
    "nbgrader": {
     "grade": false,
     "grade_id": "cell-84013930b04b8d65",
     "locked": false,
     "schema_version": 3,
     "solution": true,
     "task": false
    }
   },
   "outputs": [],
   "source": [
    "# YOUR CODE HERE\n",
    "raise NotImplementedError()"
   ]
  },
  {
   "cell_type": "markdown",
   "id": "7d9e1388",
   "metadata": {},
   "source": [
    "Let's check data integrity by running a checksum."
   ]
  },
  {
   "cell_type": "code",
   "execution_count": null,
   "id": "24fadbc0",
   "metadata": {},
   "outputs": [],
   "source": [
    " # `path_metacsv` stands for the path to your `.csv` file\n",
    "hashlib.md5(open(path_metacsv,'rb').read()).hexdigest()"
   ]
  },
  {
   "cell_type": "markdown",
   "id": "c606a41c",
   "metadata": {},
   "source": [
    "Expected result: `'99973823843415603ad43ef57ada5cc6'`"
   ]
  },
  {
   "cell_type": "markdown",
   "id": "8451b133",
   "metadata": {},
   "source": [
    "# 3. Load data into a DataFrame"
   ]
  },
  {
   "cell_type": "markdown",
   "id": "7e58ec2b",
   "metadata": {},
   "source": [
    "Set column `ID` as index."
   ]
  },
  {
   "cell_type": "code",
   "execution_count": null,
   "id": "6b8b5aae",
   "metadata": {
    "nbgrader": {
     "grade": false,
     "grade_id": "cell-09f27a57ca10a612",
     "locked": false,
     "schema_version": 3,
     "solution": true,
     "task": false
    }
   },
   "outputs": [],
   "source": [
    "# YOUR CODE HERE\n",
    "raise NotImplementedError()"
   ]
  },
  {
   "cell_type": "code",
   "execution_count": null,
   "id": "017cebec",
   "metadata": {},
   "outputs": [],
   "source": [
    "df.sample(5)"
   ]
  },
  {
   "cell_type": "markdown",
   "id": "f8c6add0",
   "metadata": {},
   "source": [
    "# 4. Pivot tables"
   ]
  },
  {
   "cell_type": "markdown",
   "id": "35a40ca3",
   "metadata": {},
   "source": [
    "## Continuous variables\n",
    "\n",
    "Using `pandas.DataFrame.pivot_table()`, display the average [AUDIT](https://auditscreen.org/) and [Hamilton](https://www.doi.org/10.1007/978-3-642-70486-4_14) scores of male and female participants."
   ]
  },
  {
   "cell_type": "code",
   "execution_count": null,
   "id": "4b74c892",
   "metadata": {
    "nbgrader": {
     "grade": false,
     "grade_id": "cell-5b490cfc9a7f4fb4",
     "locked": false,
     "schema_version": 3,
     "solution": true,
     "task": false
    }
   },
   "outputs": [],
   "source": [
    "# YOUR CODE HERE\n",
    "raise NotImplementedError()"
   ]
  },
  {
   "cell_type": "markdown",
   "id": "f82dc2c3",
   "metadata": {},
   "source": [
    "Repeat the procedure using Age instead of Gender."
   ]
  },
  {
   "cell_type": "code",
   "execution_count": null,
   "id": "5a355408",
   "metadata": {
    "nbgrader": {
     "grade": false,
     "grade_id": "cell-10885632d5b08bd9",
     "locked": false,
     "schema_version": 3,
     "solution": true,
     "task": false
    }
   },
   "outputs": [],
   "source": [
    "# YOUR CODE HERE\n",
    "raise NotImplementedError()"
   ]
  },
  {
   "cell_type": "markdown",
   "id": "db7acbf4",
   "metadata": {},
   "source": [
    "Plot average AUDIT and Hamilton scores as a function of age"
   ]
  },
  {
   "cell_type": "code",
   "execution_count": null,
   "id": "216bb5c9",
   "metadata": {
    "nbgrader": {
     "grade": false,
     "grade_id": "cell-001be15aa721dfca",
     "locked": false,
     "schema_version": 3,
     "solution": true,
     "task": false
    }
   },
   "outputs": [],
   "source": [
    "# YOUR CODE HERE\n",
    "raise NotImplementedError()"
   ]
  },
  {
   "cell_type": "markdown",
   "id": "5d9dc997",
   "metadata": {},
   "source": [
    "## Categorical variables"
   ]
  },
  {
   "cell_type": "markdown",
   "id": "e673469e",
   "metadata": {},
   "source": [
    "How many participants of each age and gender are there in the dataset?\n",
    "\n",
    "Using `pandas.get_dummies()`, generate and display a new dataframe with age brackets as columns, subject ID as index, and one-hot row vectors indicating age."
   ]
  },
  {
   "cell_type": "code",
   "execution_count": null,
   "id": "68dba158",
   "metadata": {
    "nbgrader": {
     "grade": false,
     "grade_id": "cell-f2d90aba38751183",
     "locked": false,
     "schema_version": 3,
     "solution": true,
     "task": false
    }
   },
   "outputs": [],
   "source": [
    "# YOUR CODE HERE\n",
    "raise NotImplementedError()"
   ]
  },
  {
   "cell_type": "markdown",
   "id": "30386351",
   "metadata": {},
   "source": [
    "Join the gender column to the newly created dataframe using `pandas.DataFrame.join()`.\n",
    "Make sure both dataframes have corresponding indices.\n",
    "\n",
    "Use `DataFrane.pivot_table()` to count values of each gender-age pair."
   ]
  },
  {
   "cell_type": "code",
   "execution_count": null,
   "id": "de9b1ce4",
   "metadata": {
    "nbgrader": {
     "grade": false,
     "grade_id": "cell-dbbeda3e368c42af",
     "locked": false,
     "schema_version": 3,
     "solution": true,
     "task": false
    }
   },
   "outputs": [],
   "source": [
    "# YOUR CODE HERE\n",
    "raise NotImplementedError()"
   ]
  },
  {
   "cell_type": "markdown",
   "id": "bc04a39b",
   "metadata": {},
   "source": [
    "### Challenge\n",
    "(optional)\n",
    "\n",
    "Fill the function below to accomplish the same result in one line of code.\n",
    "\n",
    "Namely, the function should:\n",
    "- read the csv file into a DataFrame\n",
    "- count occurence of age-gender pairs\n",
    "- display the result"
   ]
  },
  {
   "cell_type": "code",
   "execution_count": null,
   "id": "0d778ceb",
   "metadata": {},
   "outputs": [],
   "source": [
    "def path2count(path_csv):\n",
    "    # YOUR CODE HERE\n",
    "    raise NotImplementedError()\n",
    "    return    "
   ]
  },
  {
   "cell_type": "code",
   "execution_count": null,
   "id": "a4c2ec8f",
   "metadata": {},
   "outputs": [],
   "source": [
    "assert(os.path.isfile(path_metacsv))\n",
    "\n",
    "path2count(path_metacsv)"
   ]
  },
  {
   "cell_type": "markdown",
   "id": "05a44073",
   "metadata": {},
   "source": [
    "# 5. Plot histograms"
   ]
  },
  {
   "cell_type": "markdown",
   "id": "75fe6f19",
   "metadata": {},
   "source": [
    "Averages are informative, but they only tell part of a story.\n",
    "\n",
    "Plot histograms of AUDIT and Hamilton scores split by gender.\n",
    "\n",
    "Tip: you may wanna use seaborn."
   ]
  },
  {
   "cell_type": "code",
   "execution_count": null,
   "id": "1c140020",
   "metadata": {
    "nbgrader": {
     "grade": false,
     "grade_id": "cell-bb795e8b9109f43c",
     "locked": false,
     "schema_version": 3,
     "solution": true,
     "task": false
    }
   },
   "outputs": [],
   "source": [
    "# YOUR CODE HERE\n",
    "raise NotImplementedError()"
   ]
  },
  {
   "cell_type": "markdown",
   "id": "92906ca8",
   "metadata": {},
   "source": [
    "<img src=https://i.imgflip.com/5ilnvg.jpg width=\"500\">"
   ]
  }
 ],
 "metadata": {
  "celltoolbar": "Create Assignment",
  "kernelspec": {
   "display_name": "Python 3 (ipykernel)",
   "language": "python",
   "name": "python3"
  },
  "language_info": {
   "codemirror_mode": {
    "name": "ipython",
    "version": 3
   },
   "file_extension": ".py",
   "mimetype": "text/x-python",
   "name": "python",
   "nbconvert_exporter": "python",
   "pygments_lexer": "ipython3",
   "version": "3.9.6"
  }
 },
 "nbformat": 4,
 "nbformat_minor": 5
}
