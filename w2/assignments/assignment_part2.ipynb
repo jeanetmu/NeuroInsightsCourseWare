{
 "cells": [
  {
   "cell_type": "code",
   "execution_count": null,
   "id": "70f85e1e",
   "metadata": {},
   "outputs": [],
   "source": [
    "import os\n",
    "import glob\n",
    "\n",
    "import numpy as np\n",
    "import pandas as pd\n",
    "import seaborn as sns\n",
    "from scipy.stats import ttest_ind"
   ]
  },
  {
   "cell_type": "markdown",
   "id": "352707d6",
   "metadata": {},
   "source": [
    "# 1. Elevated Plus Maze"
   ]
  },
  {
   "cell_type": "markdown",
   "id": "f1cf8043",
   "metadata": {},
   "source": [
    "Let's synthesize data from an [elevated plus maze](https://youtu.be/Fn8WRyufcpI) task.\n",
    "\n",
    "On every time step, our simulated agent should move between the maze arms according to the following transition matrix:"
   ]
  },
  {
   "cell_type": "code",
   "execution_count": null,
   "id": "b9476958",
   "metadata": {},
   "outputs": [],
   "source": [
    "states = ['open_arm_1', 'open_arm_2', 'closed_arm_1', 'closed_arm_2']\n",
    "\n",
    "transitions = pd.DataFrame(index=pd.Index(data=states, name='to'),\n",
    "                      columns=pd.Index(data=states, name='from'),\n",
    "                      data=np.ones((len(states), len(states)))/len(states))\n",
    "\n",
    "transitions"
   ]
  },
  {
   "cell_type": "markdown",
   "id": "33358916",
   "metadata": {},
   "source": [
    "The following function simulates a session with 300 time steps.\n",
    "\n",
    "Complete the missing line:"
   ]
  },
  {
   "cell_type": "code",
   "execution_count": null,
   "id": "11a8a4eb",
   "metadata": {},
   "outputs": [],
   "source": [
    "def epm_run_session(transitions, T=5*60, initial_state=None):\n",
    "    states = transitions.columns\n",
    "    initial_state = states[0] if initial_state is None else initial_state\n",
    "    \n",
    "    sess = pd.DataFrame(index=pd.Index(np.arange(T), name='t'), columns=['state'], data='', dtype=str)\n",
    "    sess.loc[0] = initial_state\n",
    "    \n",
    "    for t in sess.index[1:]:\n",
    "        # YOUR CODE HERE\n",
    "        raise NotImplementedError()\n",
    "    \n",
    "    sess['isClosed'] = sess.state.str.startswith('closed').astype(int)\n",
    "    sess['isOpen'] = sess.state.str.startswith('open').astype(int)\n",
    "    \n",
    "    return sess"
   ]
  },
  {
   "cell_type": "code",
   "execution_count": null,
   "id": "a388cbb0",
   "metadata": {},
   "outputs": [],
   "source": [
    "sess = epm_run_session(transitions)\n",
    "sess.head()"
   ]
  },
  {
   "cell_type": "markdown",
   "id": "e1abadfe",
   "metadata": {},
   "source": [
    "The function below simulates several sessions.\n",
    "It takes a dictionary of the form `groups = {'group_id_1': transitions_1, 'group_id_2': transitions_2}` and an integer `n`.\n",
    "It then runs `epm_run_session` on each transition matrix `n` times, and should returns results on dataframe `exp`."
   ]
  },
  {
   "cell_type": "markdown",
   "id": "3743832f",
   "metadata": {},
   "source": [
    "Fill in the missing part of the function."
   ]
  },
  {
   "cell_type": "code",
   "execution_count": null,
   "id": "8b4d16d2",
   "metadata": {},
   "outputs": [],
   "source": [
    "def epm_run_experiment(groups, n=12):\n",
    "\n",
    "    exp = pd.DataFrame(columns=['subj', 'group', 'timeSpentOpen', 'timeSpentClosed'])\n",
    "\n",
    "    for group_name, group_matrix in groups.items():\n",
    "        \n",
    "        # YOUR CODE HERE\n",
    "        raise NotImplementedError()\n",
    "        \n",
    "    return exp"
   ]
  },
  {
   "cell_type": "code",
   "execution_count": null,
   "id": "7936a401",
   "metadata": {},
   "outputs": [],
   "source": [
    "groups = {'treatment1': transitions.copy(), 'treatment2': transitions.copy()}\n",
    "\n",
    "exp = epm_run_experiment(groups, n=5)\n",
    "exp"
   ]
  },
  {
   "cell_type": "markdown",
   "id": "d55c13a4",
   "metadata": {},
   "source": [
    "Expected output (values may vary):\n",
    "\n",
    "|    |   subj | group      |   timeSpentOpen |   timeSpentClosed |\n",
    "|---:|-------:|:-----------|----------------:|------------------:|\n",
    "|  0 |      0 | treatment1 |             139 |               161 |\n",
    "|  1 |      1 | treatment1 |             155 |               145 |\n",
    "|  2 |      2 | treatment1 |             161 |               139 |\n",
    "|  3 |      3 | treatment1 |             144 |               156 |\n",
    "|  4 |      4 | treatment1 |             151 |               149 |\n",
    "|  5 |      0 | treatment2 |             155 |               145 |\n",
    "|  6 |      1 | treatment2 |             151 |               149 |\n",
    "|  7 |      2 | treatment2 |             146 |               154 |\n",
    "|  8 |      3 | treatment2 |             155 |               145 |\n",
    "|  9 |      4 | treatment2 |             146 |               154 |\n"
   ]
  },
  {
   "cell_type": "markdown",
   "id": "a117d670",
   "metadata": {},
   "source": [
    "## Output of simulation\n",
    "Histogram and Student's t-Test"
   ]
  },
  {
   "cell_type": "code",
   "execution_count": null,
   "id": "f3b699b7",
   "metadata": {},
   "outputs": [],
   "source": [
    "sns.histplot(exp, hue='group', x='timeSpentOpen')\n",
    "\n",
    "ndx1 = exp.group=='treatment1'\n",
    "ndx2 = exp.group=='treatment2'\n",
    "\n",
    "tstat, pvalue = ttest_ind(exp.loc[ndx1, 'timeSpentOpen'], exp.loc[ndx2, 'timeSpentOpen'])\n",
    "print('P(difference between sample means | null hypothesis) = {}'.format(pvalue))"
   ]
  },
  {
   "cell_type": "markdown",
   "id": "bd600b95",
   "metadata": {},
   "source": [
    "We know these two datasets were generated by identical processes.\n",
    "It would be surprising if the p-value were small ([although...](https://xkcd.com/882/))"
   ]
  },
  {
   "cell_type": "code",
   "execution_count": null,
   "id": "048f37e2",
   "metadata": {},
   "outputs": [],
   "source": [
    "transitions1 = pd.DataFrame(index=transitions.index,\n",
    "                            columns=transitions.columns)\n",
    "transitions2 = pd.DataFrame(index=transitions.index,\n",
    "                            columns=transitions.columns)\n",
    "n = 12\n",
    "\n",
    "# YOUR CODE HERE\n",
    "raise NotImplementedError()"
   ]
  },
  {
   "cell_type": "code",
   "execution_count": null,
   "id": "fb6ebabb",
   "metadata": {},
   "outputs": [],
   "source": [
    "groups = {'treatment1': transitions1, 'treatment2': transitions2}\n",
    "exp = epm_run_experiment(groups, n=n)\n",
    "sns.histplot(exp, hue='group', x='timeSpentOpen')\n",
    "\n",
    "ndx1 = exp.group=='treatment1'\n",
    "ndx2 = exp.group=='treatment2'\n",
    "\n",
    "tstat, pvalue = ttest_ind(exp.loc[ndx1, 'timeSpentOpen'], exp.loc[ndx2, 'timeSpentOpen'])\n",
    "print('P(difference between sample means | null hypothesis) = {}'.format(pvalue))"
   ]
  },
  {
   "cell_type": "markdown",
   "id": "7566f55a",
   "metadata": {},
   "source": [
    "# 2. Stroop Task"
   ]
  },
  {
   "cell_type": "markdown",
   "id": "3fee326e",
   "metadata": {},
   "source": [
    "## 2.1 Sample session\n",
    "\n",
    "- Load one sample session file\n",
    "- Identify one numerical and one categorical variable of interest.\n",
    "- For the chosen numerical variable, grouped by the categorical one, plot the following:\n",
    "    - Non-normalized histogram\n",
    "    - Normalized histogram\n",
    "    - Kernel density estimate\n",
    "    - Fit of a probability distribution you deem appropriate\n",
    "\n",
    "You may need to import libraries."
   ]
  },
  {
   "cell_type": "code",
   "execution_count": null,
   "id": "35765df8",
   "metadata": {},
   "outputs": [],
   "source": [
    "glob_pattern = os.path.join(os.pardir, 'resources', 'stroop', '*.csv')\n",
    "files = glob.glob(glob_pattern)\n",
    "files"
   ]
  },
  {
   "cell_type": "code",
   "execution_count": null,
   "id": "ea36107f",
   "metadata": {},
   "outputs": [],
   "source": [
    "# YOUR CODE HERE\n",
    "raise NotImplementedError()"
   ]
  },
  {
   "cell_type": "markdown",
   "id": "925300a8",
   "metadata": {},
   "source": [
    "## 2.2 Summarizing multiple files"
   ]
  },
  {
   "cell_type": "markdown",
   "id": "0a2c2a08",
   "metadata": {},
   "source": [
    "- Git-clone this repository: https://gitlab.pavlovia.org/tsgouvea/stroop.git\n",
    "    - (advanced: [git sparse-checkout](https://stackoverflow.com/questions/600079/how-do-i-clone-a-subdirectory-only-of-a-git-repository/52269934#52269934) data directory only)\n",
    "- For each `.csv` session file in the `data` directory, fit a distribution as above.\n",
    "- Store fit parameters on a [tidy](https://tidyr.tidyverse.org/articles/tidy-data.html#tidy-data) DataFrame\n",
    "- Create one informative plot from this DataFrame."
   ]
  },
  {
   "cell_type": "code",
   "execution_count": null,
   "id": "2e898586",
   "metadata": {},
   "outputs": [],
   "source": [
    "# YOUR CODE HERE\n",
    "raise NotImplementedError()"
   ]
  },
  {
   "cell_type": "markdown",
   "id": "33c42ba7",
   "metadata": {},
   "source": [
    "## 2.3 Generating data\n",
    "\n",
    "- Once all tasks above have been completed, sit back, relax, and play the Stroop task yourself.\n",
    "- Data will be publicly available. You don't need to use your real name if you don't want.\n",
    "\n",
    "https://run.pavlovia.org/tsgouvea/stroop\n",
    "\n",
    "- Pull lattest commit and re-run your summary analysis code"
   ]
  }
 ],
 "metadata": {
  "celltoolbar": "Create Assignment",
  "kernelspec": {
   "display_name": "Python 3 (ipykernel)",
   "language": "python",
   "name": "python3"
  },
  "language_info": {
   "codemirror_mode": {
    "name": "ipython",
    "version": 3
   },
   "file_extension": ".py",
   "mimetype": "text/x-python",
   "name": "python",
   "nbconvert_exporter": "python",
   "pygments_lexer": "ipython3",
   "version": "3.9.6"
  }
 },
 "nbformat": 4,
 "nbformat_minor": 5
}
