{
 "cells": [
  {
   "cell_type": "markdown",
   "id": "cd485881",
   "metadata": {},
   "source": [
    "# Slot Machine"
   ]
  },
  {
   "cell_type": "markdown",
   "id": "cc0030e3",
   "metadata": {},
   "source": [
    "## 1. Draw FSM\n",
    "\n",
    "- Draw a schematic FSM for a slot machine with 2 buttons\n",
    "    - Clue: un-comment and run the code cell below for suggested states\n",
    "    - It is OK to omit outputs\n",
    "- Suggested methods:\n",
    "    - http://www.madebyevan.com/fsm/\n",
    "    - Draw by hand on paper and take a picture\n",
    "- Place your drawing in the `resources/media` folder within this git repository.\n",
    "- Edit the markdown cell below to display your drawing instead of the espresso machine."
   ]
  },
  {
   "cell_type": "code",
   "execution_count": 2,
   "id": "27705b6c",
   "metadata": {},
   "outputs": [],
   "source": [
    "# SUGGESTED STATES\n",
    "from codecs import decode\n",
    "# print(decode(b'0a737461746573203d205b27776169745f696e707574272c202763686f73655f41272c202763686f73655f42272c20277265776172646564272c20276e6f6e5f7265776172646564272c2027656e645f7374617465275d0a', 'hex').decode())"
   ]
  },
  {
   "cell_type": "markdown",
   "id": "0ecc2b1d",
   "metadata": {},
   "source": [
    "<img src=\"../resources/media/fsm_espresso.png\">"
   ]
  },
  {
   "cell_type": "markdown",
   "id": "10192f24",
   "metadata": {},
   "source": [
    "## 2. PsychoPy"
   ]
  },
  {
   "cell_type": "markdown",
   "id": "ae1241d4",
   "metadata": {},
   "source": [
    "This part of the assignment takes place mostly outside of Python.\n",
    "\n",
    "- Install [PsychoPy](https://www.psychopy.org/), if you haven't yet\n",
    "- Implement a slot machine like task (aka. n-armed bandit)"
   ]
  },
  {
   "cell_type": "markdown",
   "id": "00e14457",
   "metadata": {},
   "source": [
    "## 3. Pavlovia"
   ]
  },
  {
   "cell_type": "markdown",
   "id": "967e49b5",
   "metadata": {},
   "source": [
    "- Publish the task to Pavlovia (you'll need to create an account)\n",
    "    - Run it in Pilot mode to make sure everything works\n",
    "    - Switch it to \"Running\" mode\n",
    "- On your task's GitLab page (https://gitlab.pavlovia.org/youruser/yourtask/) add me ([@tsgouvea](https://gitlab.pavlovia.org/tsgouvea)) to your project as a Reporter\n",
    "    -  (settings > Members >invite member | choose a role permission: Reporter)\n",
    "- Obtain Pavlovia credits from me (you can bug me or Samip on Discord)\n",
    "- Recruit participants among your colleagues to perform your task.\n",
    "- Reciprocate: Play tasks from your colleagues - at least 3 times."
   ]
  }
 ],
 "metadata": {
  "kernelspec": {
   "display_name": "Python 3 (ipykernel)",
   "language": "python",
   "name": "python3"
  },
  "language_info": {
   "codemirror_mode": {
    "name": "ipython",
    "version": 3
   },
   "file_extension": ".py",
   "mimetype": "text/x-python",
   "name": "python",
   "nbconvert_exporter": "python",
   "pygments_lexer": "ipython3",
   "version": "3.9.6"
  }
 },
 "nbformat": 4,
 "nbformat_minor": 5
}
